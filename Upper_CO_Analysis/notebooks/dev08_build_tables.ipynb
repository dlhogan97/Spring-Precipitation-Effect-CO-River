{
 "cells": [
  {
   "cell_type": "code",
   "execution_count": 2,
   "metadata": {},
   "outputs": [],
   "source": [
    "import pandas as pd\n",
    "import geopandas as gpd \n",
    "import numpy as np\n",
    "import xarray as xr\n",
    "import os"
   ]
  },
  {
   "cell_type": "code",
   "execution_count": 22,
   "metadata": {},
   "outputs": [],
   "source": [
    "gdf = gpd.read_file('../data/geodata/ucrb_selected_basins.geojson').set_index('STAID')\n",
    "ds = xr.open_dataset('../data/streamflowdata/selected_hcdn_streamflow_annual.nc')"
   ]
  },
  {
   "cell_type": "code",
   "execution_count": 28,
   "metadata": {},
   "outputs": [
    {
     "data": {
      "text/plain": [
       "dtype('O')"
      ]
     },
     "execution_count": 28,
     "metadata": {},
     "output_type": "execute_result"
    }
   ],
   "source": []
  },
  {
   "cell_type": "code",
   "execution_count": 37,
   "metadata": {},
   "outputs": [],
   "source": [
    "mean_df = ds.mean(dim='water_year').to_dataframe()\n",
    "# convert AREA into square kilometers\n",
    "mean_df['AREA'] = mean_df['AREA'] / 1000000\n",
    "\n",
    "# round all vales to the nearest 1\n",
    "mean_df = mean_df.round(0)\n",
    "# convert all numeric columns to int\n",
    "for col in mean_df.columns:\n",
    "    if mean_df[col].dtype != 'O':\n",
    "        mean_df[col] = mean_df[col].astype(int)\n",
    "# add STANAME from gdf to mean_df\n",
    "mean_df['STANAME'] = gdf.STANAME\n",
    "# in elevation category capitolize the first letter\n",
    "mean_df['elevation_category'] = mean_df['elevation_category'].str.capitalize()\n",
    "# replace medium with middle\n",
    "mean_df['elevation_category'] = mean_df['elevation_category'].replace('Medium', 'Mid')\n",
    "mean_df['elevation_category'] = pd.Categorical(mean_df['elevation_category'], [\"Low\", \"Mid\", \"High\"])"
   ]
  },
  {
   "cell_type": "code",
   "execution_count": 42,
   "metadata": {},
   "outputs": [],
   "source": [
    "ordered_df = mean_df[['STANAME','AREA','mean_elevation','elevation_category','wy_q_mm','wy_ppt']].sort_values('elevation_category', )\n",
    "# save to excel\n",
    "ordered_df.to_csv('../data/ucrb_selected_basins_summary.csv', index=True)"
   ]
  },
  {
   "cell_type": "code",
   "execution_count": null,
   "metadata": {},
   "outputs": [],
   "source": []
  }
 ],
 "metadata": {
  "kernelspec": {
   "display_name": "ucrb_analysis_env",
   "language": "python",
   "name": "python3"
  },
  "language_info": {
   "codemirror_mode": {
    "name": "ipython",
    "version": 3
   },
   "file_extension": ".py",
   "mimetype": "text/x-python",
   "name": "python",
   "nbconvert_exporter": "python",
   "pygments_lexer": "ipython3",
   "version": "3.10.13"
  }
 },
 "nbformat": 4,
 "nbformat_minor": 2
}
