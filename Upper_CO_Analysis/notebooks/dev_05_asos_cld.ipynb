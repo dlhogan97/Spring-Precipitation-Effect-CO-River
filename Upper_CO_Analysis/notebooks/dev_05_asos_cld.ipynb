{
 "cells": [
  {
   "cell_type": "code",
   "execution_count": 1,
   "metadata": {},
   "outputs": [],
   "source": [
    "import geopandas as gpd\n",
    "import pandas as pd\n",
    "import numpy as np\n",
    "import matplotlib.pyplot as plt\n",
    "import datetime as dt\n",
    "import datetime\n",
    "import json\n",
    "import os\n",
    "import sys\n",
    "import time\n",
    "from urllib.request import urlopen\n",
    "import xarray as xr\n"
   ]
  },
  {
   "cell_type": "code",
   "execution_count": 2,
   "metadata": {},
   "outputs": [],
   "source": [
    "\n",
    "\n",
    "# Number of attempts to download data\n",
    "MAX_ATTEMPTS = 6\n",
    "# HTTPS here can be problematic for installs that don't have Lets Encrypt CA\n",
    "SERVICE = \"http://mesonet.agron.iastate.edu/cgi-bin/request/asos.py?\"\n",
    "\n",
    "\n",
    "def download_data(uri):\n",
    "    \"\"\"Fetch the data from the IEM\n",
    "\n",
    "    The IEM download service has some protections in place to keep the number\n",
    "    of inbound requests in check.  This function implements an exponential\n",
    "    backoff to keep individual downloads from erroring.\n",
    "\n",
    "    Args:\n",
    "      uri (string): URL to fetch\n",
    "\n",
    "    Returns:\n",
    "      string data\n",
    "    \"\"\"\n",
    "    attempt = 0\n",
    "    while attempt < MAX_ATTEMPTS:\n",
    "        try:\n",
    "            data = urlopen(uri, timeout=300).read().decode(\"utf-8\")\n",
    "            if data is not None and not data.startswith(\"ERROR\"):\n",
    "                return data\n",
    "        except Exception as exp:\n",
    "            print(f\"download_data({uri}) failed with {exp}\")\n",
    "            time.sleep(5)\n",
    "        attempt += 1\n",
    "\n",
    "    print(\"Exhausted attempts to download, returning empty data\")\n",
    "    return \"\"\n"
   ]
  },
  {
   "cell_type": "code",
   "execution_count": 3,
   "metadata": {},
   "outputs": [],
   "source": [
    "asos_station_df = pd.read_csv('../data/geodata/iem_stations_co_asos.csv',)\n",
    "asos_station_gdf = gpd.GeoDataFrame(asos_station_df, geometry=gpd.points_from_xy(asos_station_df['lon'], asos_station_df['lat'], asos_station_df['elev']), crs='EPSG:4326')\n",
    "# if endts is not nan, then drop the station\n",
    "asos_station_gdf = asos_station_gdf[asos_station_gdf['endts'].isna()]\n",
    "# drop stations with start dates after 2010\n",
    "asos_station_gdf['begints'] = pd.to_datetime(asos_station_gdf['begints'])\n",
    "asos_station_gdf = asos_station_gdf[asos_station_gdf['begints'] < dt.datetime(1980,10,1)]\n",
    "# pull in ucrb boundary\n",
    "ucrb_boundary = gpd.read_file('../data/geodata/Upper_Colorado_River_Basin_Boundary.json')\n",
    "# clip the asos stations to the ucrb boundary\n",
    "ucrb_asos_stations = gpd.clip(asos_station_gdf, ucrb_boundary).reset_index(drop=True)\n",
    "asos_ids = list(ucrb_asos_stations['stid'].values)\n",
    "# convert ucrb_asos_stations crs to 32613\n",
    "ucrb_asos_stations = ucrb_asos_stations.to_crs('EPSG:32613')"
   ]
  },
  {
   "cell_type": "code",
   "execution_count": 4,
   "metadata": {},
   "outputs": [
    {
     "name": "stdout",
     "output_type": "stream",
     "text": [
      "Data already downloaded for DRO\n",
      "Data already downloaded for CEZ\n",
      "Data already downloaded for CPW\n",
      "Writing data to getting file \n",
      "Downloading: MTJ\n",
      "Data written to MTJ_196410010000_202209300000.txt\n",
      "Writing data to getting file \n",
      "Downloading: GUC\n",
      "Data written to GUC_196410010000_202209300000.txt\n",
      "Writing data to getting file \n",
      "Downloading: GJT\n",
      "Data written to GJT_196410010000_202209300000.txt\n",
      "Writing data to getting file \n",
      "Downloading: ASE\n",
      "Data written to ASE_196410010000_202209300000.txt\n",
      "Writing data to getting file \n",
      "Downloading: EGE\n",
      "Data written to EGE_196410010000_202209300000.txt\n",
      "Writing data to getting file \n",
      "Downloading: EEO\n",
      "Data written to EEO_196410010000_202209300000.txt\n",
      "Writing data to getting file \n",
      "Downloading: HDN\n",
      "Data written to HDN_196410010000_202209300000.txt\n",
      "Writing data to getting file \n",
      "Downloading: CAG\n",
      "Data written to CAG_196410010000_202209300000.txt\n"
     ]
    }
   ],
   "source": [
    "\n",
    "\"\"\"Our main method\"\"\"\n",
    "# timestamps in UTC to request data for\n",
    "startts = datetime.datetime(1964, 10, 1)\n",
    "endts = datetime.datetime(2022, 9, 30)\n",
    "\n",
    "service = SERVICE + \"data=skyc1&data=skyc2&data=skyc3&tz=Etc/UTC&format=comma&latlon=yes&\"\n",
    "\n",
    "service += startts.strftime(\"year1=%Y&month1=%m&day1=%d&\")\n",
    "service += endts.strftime(\"year2=%Y&month2=%m&day2=%d&\")\n",
    "\n",
    "# Two examples of how to specify a list of stations\n",
    "stations = asos_ids\n",
    "for station in stations:\n",
    "    final_file = f'../data/etdata/clouds/MAM_spring/{station}_spring_avg_cc.csv'\n",
    "    uri = f\"{service}&station={station}\"\n",
    "\n",
    "    outfn = f\"{station}_{startts:%Y%m%d%H%M}_{endts:%Y%m%d%H%M}.txt\"\n",
    "    if not os.path.isfile(final_file):\n",
    "        print(f\"Writing data to getting file \")\n",
    "        if not os.path.isfile(outfn):\n",
    "            print(f\"Downloading: {station}\")\n",
    "            data = download_data(uri)\n",
    "            with open(outfn, \"w\", encoding=\"ascii\") as fh:\n",
    "                fh.write(data)\n",
    "            print(f\"Data written to {outfn}\")\n",
    "        \n",
    "        df = pd.read_csv(f'./{station}_196410010000_202209300000.txt',delimiter=',', comment='#')\n",
    "        # for sky1, sky2, sky3, replace 'M' with np.nan\n",
    "        # we'll say CLR, FEW, or BKN are 0 and OVC, SCT, and VV are 1 replace blanks with np.nan\n",
    "        for col in ['skyc1', 'skyc2', 'skyc3']:\n",
    "            df[col] = df[col].replace('M', np.nan)\n",
    "            df[col] = df[col].replace('M', np.nan)\n",
    "            df[col] = df[col].replace('M', np.nan)\n",
    "            df[col] = df[col].replace('CLR', 0)\n",
    "            df[col] = df[col].replace('FEW', 0)\n",
    "            df[col] = df[col].replace('BKN', 0)\n",
    "            df[col] = df[col].replace('OVC', 1)\n",
    "            df[col] = df[col].replace('SCT', 1)\n",
    "            df[col] = df[col].replace('VV ', 1)\n",
    "            df[col] = df[col].replace('   ', np.nan)\n",
    "            df[col] = df[col].replace('///', np.nan)\n",
    "        df['valid'] = pd.to_datetime(df['valid'])\n",
    "        # for each sky level, sum up the number of observations for each condition for each day\n",
    "        test = df.groupby([df['valid'].dt.date]).agg({'skyc1': ['sum'], 'skyc2': ['sum'], 'skyc3': ['sum']})\n",
    "        test.index = pd.to_datetime(test.index)\n",
    "        # divide test by the number of observations for each day to estimate where >50% of the sky is covered by clouds\n",
    "        value_counts = df.groupby([df['valid'].dt.date]).agg({'skyc1': ['count'], 'skyc2': ['count'], 'skyc3': ['count']})\n",
    "        # if value count is 0, replace with np.nan\n",
    "        value_counts = value_counts.replace(0, np.nan)\n",
    "        # if value count is less than 24, replace with np.nan\n",
    "        value_counts = value_counts.where(value_counts > 24)\n",
    "        value_counts.index = pd.to_datetime(value_counts.index)\n",
    "        avg_daily_cc1 = test['skyc1']['sum']/value_counts['skyc1']['count']\n",
    "        avg_daily_cc2 = test['skyc2']['sum']/value_counts['skyc2']['count']\n",
    "        avg_daily_cc3 = test['skyc3']['sum']/value_counts['skyc3']['count']\n",
    "\n",
    "        # get average cloud cover summed over every month\n",
    "        monthly_avg_cc1 = avg_daily_cc1.resample('M').mean()\n",
    "        monthly_avg_cc2 = avg_daily_cc2.resample('M').mean()\n",
    "        monthly_avg_cc3 = avg_daily_cc3.resample('M').mean()\n",
    "        # get the average cloud cover for springs for each year\n",
    "        spring_avg_cc1 = avg_daily_cc1.where(avg_daily_cc1.index.month.isin([3,4,5])).resample('Y').mean()\n",
    "        # reset index to just be the year\n",
    "        spring_avg_cc1.index = spring_avg_cc1.index.year\n",
    "        spring_avg_cc2 = avg_daily_cc2.where(avg_daily_cc2.index.month.isin([3,4,5])).resample('Y').mean()\n",
    "        spring_avg_cc2.index = spring_avg_cc2.index.year\n",
    "        spring_avg_cc3 = avg_daily_cc3.where(avg_daily_cc3.index.month.isin([3,4,5])).resample('Y').mean()\n",
    "        spring_avg_cc3.index = spring_avg_cc3.index.year\n",
    "        # combine these into a single dataframe\n",
    "        spring_avg_cc = pd.concat([spring_avg_cc1, spring_avg_cc2, spring_avg_cc3], axis=1)\n",
    "        spring_avg_cc.columns = ['skyc1', 'skyc2', 'skyc3']\n",
    "        # drop the highest value for the sky1 column\n",
    "        spring_avg_cc = spring_avg_cc.drop(spring_avg_cc.idxmax())\n",
    "        # add a column with the station\n",
    "        spring_avg_cc['station'] = station\n",
    "        # save the spring_avg_cc to a csv\n",
    "        spring_avg_cc.to_csv(final_file)\n",
    "        # remove the downloaded file\n",
    "        os.remove(outfn)\n",
    "    else:\n",
    "        print(f\"Data already downloaded for {station}\")\n",
    "                "
   ]
  },
  {
   "cell_type": "code",
   "execution_count": 5,
   "metadata": {},
   "outputs": [],
   "source": [
    "# pull is prism preciptiation data\n",
    "import xarray as xr\n",
    "ppt_prism = xr.open_dataset('../data/precipdata/prism_4km_ucrb.nc')\n",
    "ppt_prism = ppt_prism.rename({'__xarray_dataarray_variable__': 'ppt'})\n"
   ]
  },
  {
   "cell_type": "code",
   "execution_count": 24,
   "metadata": {},
   "outputs": [
    {
     "name": "stdout",
     "output_type": "stream",
     "text": [
      "Station: DRO, slope: 0.14756786678191344\n",
      "Station: CEZ, slope: 0.5174769947465288\n",
      "Station: CPW, slope: 0.6494265122710066\n",
      "Station: MTJ, slope: 0.6287049450576918\n",
      "Station: GUC, slope: 0.7762908357210155\n",
      "Station: GJT, slope: 0.9686205485474549\n",
      "Station: ASE, slope: 0.3663214924199923\n",
      "Station: EGE, slope: 0.8655649941546407\n",
      "Station: EEO, slope: 0.3092846560886053\n",
      "Station: HDN, slope: 0.5712528315102271\n",
      "Station: CAG, slope: 0.7827263506525814\n"
     ]
    }
   ],
   "source": [
    "# rename __xarray_dataarray_variable__ to ppt\n",
    "import scipy.stats as stats\n",
    "for station in asos_ids:\n",
    "    spring_avg_cc = pd.read_csv(f'../data/etdata/clouds/MAM_spring/{station}_spring_avg_cc.csv', index_col=0)\n",
    "    # nan values above 0.5\n",
    "    spring_avg_cc['skyc1'] = spring_avg_cc['skyc1'].where(spring_avg_cc['skyc1'] < 0.5, np.nan)\n",
    "    sta = ucrb_asos_stations[ucrb_asos_stations.stid==station].geometry.values[0]\n",
    "    station_ppt = ppt_prism.sel(x=sta.x, y=sta.y, method='nearest')\n",
    "    # get the spring ppt for each year\n",
    "    station_ppt_spring = station_ppt.where(station_ppt.month.dt.month.isin([3,4,5])).resample(month='Y').sum()\n",
    "    station_ppt_spring = station_ppt_spring.to_dataframe()['ppt']\n",
    "    # reset index to just be the year\n",
    "    station_ppt_spring.index = station_ppt_spring.index.year\n",
    "    # add correlation to the gdf for the station\n",
    "    ucrb_asos_stations.loc[ucrb_asos_stations.stid==station, 'ppt_correlation'] = station_ppt_spring.corr(spring_avg_cc['skyc1'])\n",
    "    # calculate r2 values between ppt and cloud cover\n",
    "    # print the slope and intercept\n",
    "    slope, intercept, r_value, p_value, std_err = stats.linregress(station_ppt_spring.loc[spring_avg_cc['skyc1'].dropna().index], spring_avg_cc['skyc1'].dropna()*100*10)\n",
    "    print(f\"Station: {station}, slope: {slope}\")\n",
    "    # plt.scatter(station_ppt_spring.loc[spring_avg_cc.index], spring_avg_cc['skyc1'])"
   ]
  },
  {
   "cell_type": "code",
   "execution_count": 25,
   "metadata": {},
   "outputs": [
    {
     "data": {
      "text/plain": [
       "Text(0.5, 1.0, 'Correlation between Spring Cloud Cover from ASOS stations\\nand Spring Precipitation from PRISM')"
      ]
     },
     "execution_count": 25,
     "metadata": {},
     "output_type": "execute_result"
    },
    {
     "data": {
      "image/png": "[encoded data removed]",
      "text/plain": [
       "<Figure size 640x480 with 2 Axes>"
      ]
     },
     "metadata": {},
     "output_type": "display_data"
    }
   ],
   "source": [
    "# plot station locations over the ucrb boundary\n",
    "fig, ax = plt.subplots()\n",
    "ucrb_boundary.to_crs(32613).plot(ax=ax, color='lightgrey')\n",
    "# plot stations and color by correlation\n",
    "ucrb_asos_stations.plot(ax=ax, \n",
    "                        column='ppt_correlation', \n",
    "                        cmap='RdBu_r', \n",
    "                        legend=True, \n",
    "                        markersize=20, \n",
    "                        vmin=-1, \n",
    "                        vmax=1,\n",
    "                        legend_kwds={'label': \"Pearson Correlation\", 'orientation': \"vertical\"})\n",
    "plt.title('Correlation between Spring Cloud Cover from ASOS stations\\nand Spring Precipitation from PRISM')\n",
    "# plt.show()"
   ]
  }
 ],
 "metadata": {
  "kernelspec": {
   "display_name": "ucrb_analysis_env",
   "language": "python",
   "name": "python3"
  },
  "language_info": {
   "codemirror_mode": {
    "name": "ipython",
    "version": 3
   },
   "file_extension": ".py",
   "mimetype": "text/x-python",
   "name": "python",
   "nbconvert_exporter": "python",
   "pygments_lexer": "ipython3",
   "version": "3.10.13"
  }
 },
 "nbformat": 4,
 "nbformat_minor": 2
}
