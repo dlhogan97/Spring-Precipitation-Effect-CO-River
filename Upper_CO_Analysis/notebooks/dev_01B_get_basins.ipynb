{
 "cells": [
  {
   "cell_type": "code",
   "execution_count": 1,
   "metadata": {},
   "outputs": [],
   "source": [
    "import pandas as pd\n",
    "import rioxarray as rxr\n",
    "import matplotlib.pyplot as plt\n",
    "import geopandas as gpd\n",
    "import numpy as np"
   ]
  },
  {
   "cell_type": "code",
   "execution_count": 59,
   "metadata": {},
   "outputs": [],
   "source": [
    "# get all gages basin characteristics\n",
    "basin_df = pd.read_csv('../basin_characteristics/gagesII/conterm_basinid.txt', encoding='utf-8')\n",
    "# filter to HUC02 == 14\n",
    "basin_df = basin_df[basin_df['HUC02'] == '14']\n",
    "huc14_stations = basin_df['STAID'].tolist()"
   ]
  },
  {
   "cell_type": "code",
   "execution_count": 60,
   "metadata": {},
   "outputs": [],
   "source": [
    "# now open the dam data\n",
    "dam_df = pd.read_csv('../basin_characteristics/gagesII/conterm_hydromod_dams.txt', encoding='utf-8')\n",
    "dam_df = dam_df[dam_df['STAID'].isin(huc14_stations)]\n",
    "# drop all NDAMS_2009 > 0\n",
    "dam_df = dam_df[dam_df['pre1980_NDAMS'] > 1]\n",
    "# get damn free ids \n",
    "dam_stations = dam_df['STAID'].tolist()"
   ]
  },
  {
   "cell_type": "code",
   "execution_count": 65,
   "metadata": {},
   "outputs": [],
   "source": [
    "# drop values from huc14_stations if in dam_stations\n",
    "huc14_dam_free = [x for x in huc14_stations if x not in dam_stations]\n",
    "# add in any missing hcdn \n",
    "mask = (~basin_df[['HCDN-2009','HBN36','OLD_HCDN']].isna())\n",
    "hcdn_stations = basin_df[mask.any(axis=1)].STAID.to_list()\n",
    "huc14_dam_free = list(set(huc14_dam_free + hcdn_stations))"
   ]
  },
  {
   "cell_type": "code",
   "execution_count": 68,
   "metadata": {},
   "outputs": [],
   "source": [
    "# get flow record data\n",
    "flowrec_df = pd.read_csv('../basin_characteristics/gagesII/conterm_flowrec.txt', encoding='utf-8')\n",
    "flowrec_df = flowrec_df[flowrec_df['STAID'].isin(huc14_dam_free)]\n",
    "# create a list filled with strings from wy1964 to wy2009\n",
    "years = list(map(str, list(range(1964, 2010))))\n",
    "# add wy to each string\n",
    "years = list(map(lambda x: 'wy' + x, years))\n",
    "# for each row, get the sum of the years columns\n",
    "flowrec_df['sum'] = flowrec_df[years].sum(axis=1)\n",
    "# drop if sum is less than 43\n",
    "flowrec_df = flowrec_df[flowrec_df['sum'] >= 43]\n",
    "# drop years not active09\n",
    "flowrec_df = flowrec_df[flowrec_df['ACTIVE09'] == 'yes']\n",
    "# get the station ids\n",
    "flowrec_stations = flowrec_df['STAID'].tolist()"
   ]
  },
  {
   "cell_type": "code",
   "execution_count": 91,
   "metadata": {},
   "outputs": [],
   "source": [
    "bigger_basins = basin_df[basin_df['STAID'].isin(flowrec_stations)]\n",
    "# drop basins with areas  < 10 km^2\n",
    "bigger_basins = bigger_basins[bigger_basins['DRAIN_SQKM'] > 50]\n",
    "bigger_basin_gages = bigger_basins['STAID'].tolist()\n"
   ]
  },
  {
   "cell_type": "code",
   "execution_count": 95,
   "metadata": {},
   "outputs": [],
   "source": [
    "df = pd.read_csv('../basin_characteristics/gagesII/conterm_bas_classif.txt', encoding='utf-8')\n",
    "df = df[df['STAID'].isin(bigger_basin_gages)]\n",
    "df = df[df['HYDRO_DISTURB_INDX'] < 13]\n",
    "# drop these two STAIDs 9299500, 9025000\n",
    "df = df[~df['STAID'].isin([9299500, 9025000])]\n",
    "final_basin_gages = df['STAID'].tolist()\n",
    "final_basins = bigger_basins[bigger_basins['STAID'].isin(final_basin_gages)]\n",
    "final_basin_gages = ['0'+str(v) for v in final_basin_gages]\n",
    "final_basins.loc[:,'STAID'] = final_basin_gages\n"
   ]
  },
  {
   "cell_type": "code",
   "execution_count": 50,
   "metadata": {},
   "outputs": [],
   "source": [
    "# get basin boundaries\n",
    "basin_boudary_gdf = gpd.read_file('../basin_characteristics/gagesII/nonref_shapefile/bas_nonref_WestMnts.shp')\n",
    "basin_boundary_ref_gdf = gpd.read_file('../basin_characteristics/gagesII/ref_shapefile/bas_ref_all.shp')"
   ]
  },
  {
   "cell_type": "code",
   "execution_count": 96,
   "metadata": {},
   "outputs": [],
   "source": [
    "ucrb_selected_gdf_nonref = basin_boudary_gdf[basin_boudary_gdf['GAGE_ID'].isin(final_basin_gages)]\n",
    "ucrb_selected_gdf_ref = basin_boundary_ref_gdf[basin_boundary_ref_gdf['GAGE_ID'].isin(final_basin_gages)]\n",
    "# merge the two dataframes\n",
    "ucrb_selected_gdf = pd.concat([ucrb_selected_gdf_nonref, ucrb_selected_gdf_ref])\n",
    "# from final_basins, add these columns to the gdf: STANAME\tDRAIN_SQKM\tHUC02\tLAT_GAGE\tLNG_GAGE\n",
    "ucrb_selected_gdf = ucrb_selected_gdf.merge(final_basins, left_on='GAGE_ID', right_on='STAID')"
   ]
  },
  {
   "cell_type": "code",
   "execution_count": 97,
   "metadata": {},
   "outputs": [],
   "source": [
    "# transform crs to 32613\n",
    "ucrb_selected_gdf_32613 = ucrb_selected_gdf.to_crs(epsg=32613)\n",
    "# convert to 4326\n",
    "ucrb_selected_gdf_4326 = ucrb_selected_gdf.to_crs(epsg=4326)\n"
   ]
  },
  {
   "cell_type": "code",
   "execution_count": 98,
   "metadata": {},
   "outputs": [],
   "source": [
    "ucrb_boundary = gpd.read_file('../data/geodata/Upper_Colorado_River_Basin_Boundary.json')\n",
    "#  transform crs to 32613\n",
    "ucrb_boundary_32613 = ucrb_boundary.to_crs(epsg=32613)"
   ]
  },
  {
   "cell_type": "code",
   "execution_count": 99,
   "metadata": {},
   "outputs": [
    {
     "data": {
      "text/plain": [
       "<Axes: >"
      ]
     },
     "execution_count": 99,
     "metadata": {},
     "output_type": "execute_result"
    },
    {
     "data": {
      "image/png": "[encoded data removed]",
      "text/plain": [
       "<Figure size 640x480 with 1 Axes>"
      ]
     },
     "metadata": {},
     "output_type": "display_data"
    }
   ],
   "source": [
    "\n",
    "fig, ax = plt.subplots()\n",
    "ucrb_boundary_32613.plot(ax=ax)\n",
    "ucrb_selected_gdf_32613.plot(ax=ax, color='red')"
   ]
  },
  {
   "cell_type": "code",
   "execution_count": 100,
   "metadata": {},
   "outputs": [],
   "source": [
    "# pull in the dem \n",
    "ucrb_dem = rxr.open_rasterio('../data/geodata/ucrb_dem_32613_150m.tif')\n"
   ]
  },
  {
   "cell_type": "code",
   "execution_count": 101,
   "metadata": {},
   "outputs": [],
   "source": [
    "# iterate through each basin and get the mean elevation, max elevation, and min elevation\n",
    "for idx, row in ucrb_selected_gdf_32613.iterrows():\n",
    "    # get the basin boundary\n",
    "    basin_boundary = row['geometry']\n",
    "    # get the mean elevation\n",
    "    tmp = ucrb_dem.rio.clip([basin_boundary], crs=32613)\n",
    "    # fill negative values with nan\n",
    "    tmp = tmp.where(tmp > 0, np.nan)\n",
    "    mean_elevation = tmp.mean().values\n",
    "    # get the max elevation\n",
    "    max_elevation = tmp.max().values\n",
    "    # get the min elevation\n",
    "    min_elevation = tmp.min().values\n",
    "    # add the values to the gdf\n",
    "    ucrb_selected_gdf_32613.loc[idx, 'mean_elevation'] = mean_elevation\n",
    "    ucrb_selected_gdf_32613.loc[idx, 'max_elevation'] = max_elevation\n",
    "    ucrb_selected_gdf_32613.loc[idx, 'min_elevation'] = min_elevation"
   ]
  },
  {
   "cell_type": "code",
   "execution_count": 102,
   "metadata": {},
   "outputs": [],
   "source": [
    "# separate mean elevation into 3 categories\n",
    "categories = pd.qcut(ucrb_selected_gdf_32613['mean_elevation'],3, labels=['low', 'medium', 'high'])\n",
    "ucrb_selected_gdf_32613['elevation_category'] = categories.astype(str)\n",
    "# save the gdf\n",
    "ucrb_selected_gdf_32613.to_file('../data/geodata/ucrb_selected_basins.geojson', driver='GeoJSON')"
   ]
  }
 ],
 "metadata": {
  "kernelspec": {
   "display_name": "ucrb_analysis_env",
   "language": "python",
   "name": "python3"
  },
  "language_info": {
   "codemirror_mode": {
    "name": "ipython",
    "version": 3
   },
   "file_extension": ".py",
   "mimetype": "text/x-python",
   "name": "python",
   "nbconvert_exporter": "python",
   "pygments_lexer": "ipython3",
   "version": "3.10.13"
  }
 },
 "nbformat": 4,
 "nbformat_minor": 2
}
