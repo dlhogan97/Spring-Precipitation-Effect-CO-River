{
 "cells": [
  {
   "cell_type": "code",
   "execution_count": 2,
   "metadata": {},
   "outputs": [],
   "source": [
    "# this is the CUAHSI API endpoint\n",
    "# http://his.cuahsi.org/wofws.html\n",
    "wsdlurl = 'https://hydroportal.cuahsi.org/Snotel/cuahsi_1_1.asmx?WSDL'"
   ]
  },
  {
   "cell_type": "code",
   "execution_count": 3,
   "metadata": {},
   "outputs": [],
   "source": [
    "#Install directly from github repo main branch\n",
    "#%pip install -q git+https://github.com/ulmo-dev/ulmo.git\n",
    "import ulmo"
   ]
  },
  {
   "cell_type": "code",
   "execution_count": 5,
   "metadata": {},
   "outputs": [],
   "source": [
    "# import packages, had some issues importing/installing geopandas and contextily, but got it eventually\n",
    "\n",
    "import os\n",
    "\n",
    "from datetime import datetime\n",
    "import numpy as np\n",
    "import matplotlib.pyplot as plt\n",
    "import pandas as pd\n",
    "import geopandas as gpd\n",
    "from shapely.geometry import Point\n",
    "import contextily as ctx"
   ]
  },
  {
   "cell_type": "code",
   "execution_count": 5,
   "metadata": {},
   "outputs": [],
   "source": [
    "# identify SNOTEL site locations\n",
    "sites = ulmo.cuahsi.wof.get_sites(wsdlurl)"
   ]
  },
  {
   "cell_type": "code",
   "execution_count": 6,
   "metadata": {},
   "outputs": [],
   "source": [
    "# convert to pandas dataframe from dictionary and drop na values\n",
    "sites_df = pd.DataFrame.from_dict(sites, orient='index').dropna()"
   ]
  },
  {
   "cell_type": "code",
   "execution_count": 7,
   "metadata": {},
   "outputs": [],
   "source": [
    "# clean up dataframe and prepare point geometry objects, need x and y locs\n",
    "# do this by creating a new column (geometry) and pulling lat and long info and use Point package to pull info from dict\n",
    "sites_df['geometry']=[Point(float(loc['longitude']),float(loc['latitude'])) for loc in sites_df['location']]\n",
    "sites_df = sites_df.drop(columns='location')\n",
    "sites_df = sites_df.astype({'elevation_m':float})"
   ]
  },
  {
   "cell_type": "code",
   "execution_count": 8,
   "metadata": {},
   "outputs": [],
   "source": [
    "# gathers all snotel sites\n",
    "sites_gdf_all = gpd.GeoDataFrame(sites_df, crs='EPSG:4326')\n",
    "# gathers all snotel sites in Washington\n",
    "css_snotel = sites_gdf_all[sites_gdf_all['name'] == 'Css Lab']"
   ]
  },
  {
   "cell_type": "code",
   "execution_count": 9,
   "metadata": {},
   "outputs": [],
   "source": [
    "# snow and swe variables\n",
    "met_vars = ['SNOTEL:SNWD_H','SNOTEL:WTEQ_H']\n",
    "today = datetime.today().strftime('%Y-%m-%d')\n",
    "# function will take in a sitecode, variable code, start and end date and return variable data for that range and location as df\n",
    "def snotel_fetch(sitecode, variablecode, start_date='1950-01-01', end_date=today):\n",
    "    values_df = None\n",
    "    sitename = 'Null'\n",
    "    try:\n",
    "        # start by requesting data from the server\n",
    "        #print('Requesting Data from Server...')\n",
    "        site_values = ulmo.cuahsi.wof.get_values(wsdlurl,sitecode, variablecode, start=start_date, end=end_date)\n",
    "        # return name of station\n",
    "        sitename = site_values['site']['name']\n",
    "        # convert to pandas dataframe\n",
    "        values_df = pd.DataFrame.from_dict(site_values['values'])\n",
    "        # parse the datetime values to Pandas Timestamp object\n",
    "        #print('Cleaning Data...')\n",
    "        values_df['datetime'] = pd.to_datetime(values_df['datetime'], utc=False) # turned to false for excel export\n",
    "        # set df index to datetime\n",
    "        values_df = values_df.set_index('datetime')\n",
    "        # convert values to float and replace -9999 with NaN\n",
    "        values_df['value'] = pd.to_numeric(values_df['value']).replace(-9999,np.nan)\n",
    "        # rename values column after variable code\n",
    "        values_df.rename(columns = {'value':variablecode}, inplace = True)\n",
    "        # remove lower quality records\n",
    "        values_df = values_df[values_df['quality_control_level_code']=='1'][variablecode] \n",
    "        print('Done!')\n",
    "    except:\n",
    "        print('Unable to fetch %s' % variablecode)\n",
    "    return values_df, sitename"
   ]
  },
  {
   "cell_type": "code",
   "execution_count": 10,
   "metadata": {},
   "outputs": [],
   "source": [
    "# gets station output for specified stations\n",
    "def getStation_output(sitecode, start, end, variables=met_vars):\n",
    "    site_snotel = pd.DataFrame()\n",
    "    sitename = 'Null'\n",
    "    for var in variables:\n",
    "        print('Fetching {0} for {1}'.format(var, sitecode))\n",
    "        tmp, sitename = snotel_fetch(sitecode,var,start_date=start,end_date=end)\n",
    "        if (tmp is not None) and (site_snotel is not None):\n",
    "            site_snotel[var] = tmp\n",
    "        else:\n",
    "            site_snotel = None\n",
    "    return site_snotel, sitename"
   ]
  },
  {
   "cell_type": "code",
   "execution_count": 11,
   "metadata": {},
   "outputs": [
    {
     "name": "stdout",
     "output_type": "stream",
     "text": [
      "Fetching SNOTEL:SNWD_H for SNOTEL:428_CA_SNTL\n",
      "Done!\n",
      "Fetching SNOTEL:WTEQ_H for SNOTEL:428_CA_SNTL\n",
      "Done!\n"
     ]
    }
   ],
   "source": [
    "site_code = 'SNOTEL:428_CA_SNTL' # for muckamuck station\n",
    "start, end = '2016-11-15', '2017-06-15' # change dates if desired\n",
    "outpath = None # change path to preferred output location\n",
    "# outputs two dataframes, one for depth and the other for swe\n",
    "cssl, sitename = getStation_output(site_code, start, end)"
   ]
  },
  {
   "cell_type": "code",
   "execution_count": 54,
   "metadata": {},
   "outputs": [
    {
     "data": {
      "text/html": [
       "<div>\n",
       "<style scoped>\n",
       "    .dataframe tbody tr th:only-of-type {\n",
       "        vertical-align: middle;\n",
       "    }\n",
       "\n",
       "    .dataframe tbody tr th {\n",
       "        vertical-align: top;\n",
       "    }\n",
       "\n",
       "    .dataframe thead th {\n",
       "        text-align: right;\n",
       "    }\n",
       "</style>\n",
       "<table border=\"1\" class=\"dataframe\">\n",
       "  <thead>\n",
       "    <tr style=\"text-align: right;\">\n",
       "      <th></th>\n",
       "      <th></th>\n",
       "      <th>SNOTEL:SNWD_H</th>\n",
       "      <th>SNOTEL:WTEQ_H</th>\n",
       "    </tr>\n",
       "    <tr>\n",
       "      <th></th>\n",
       "      <th>datetime</th>\n",
       "      <th></th>\n",
       "      <th></th>\n",
       "    </tr>\n",
       "  </thead>\n",
       "  <tbody>\n",
       "    <tr>\n",
       "      <th rowspan=\"5\" valign=\"top\">2016-11-15</th>\n",
       "      <th>0</th>\n",
       "      <td>0.0</td>\n",
       "      <td>0.00</td>\n",
       "    </tr>\n",
       "    <tr>\n",
       "      <th>1</th>\n",
       "      <td>0.0</td>\n",
       "      <td>-2.54</td>\n",
       "    </tr>\n",
       "    <tr>\n",
       "      <th>2</th>\n",
       "      <td>0.0</td>\n",
       "      <td>-2.54</td>\n",
       "    </tr>\n",
       "    <tr>\n",
       "      <th>3</th>\n",
       "      <td>0.0</td>\n",
       "      <td>-2.54</td>\n",
       "    </tr>\n",
       "    <tr>\n",
       "      <th>4</th>\n",
       "      <td>25.4</td>\n",
       "      <td>-2.54</td>\n",
       "    </tr>\n",
       "    <tr>\n",
       "      <th>...</th>\n",
       "      <th>...</th>\n",
       "      <td>...</td>\n",
       "      <td>...</td>\n",
       "    </tr>\n",
       "    <tr>\n",
       "      <th rowspan=\"4\" valign=\"top\">2017-06-14</th>\n",
       "      <th>20</th>\n",
       "      <td>0.0</td>\n",
       "      <td>93.98</td>\n",
       "    </tr>\n",
       "    <tr>\n",
       "      <th>21</th>\n",
       "      <td>0.0</td>\n",
       "      <td>93.98</td>\n",
       "    </tr>\n",
       "    <tr>\n",
       "      <th>22</th>\n",
       "      <td>25.4</td>\n",
       "      <td>91.44</td>\n",
       "    </tr>\n",
       "    <tr>\n",
       "      <th>23</th>\n",
       "      <td>0.0</td>\n",
       "      <td>91.44</td>\n",
       "    </tr>\n",
       "    <tr>\n",
       "      <th>2017-06-15</th>\n",
       "      <th>0</th>\n",
       "      <td>0.0</td>\n",
       "      <td>0.00</td>\n",
       "    </tr>\n",
       "  </tbody>\n",
       "</table>\n",
       "<p>4731 rows × 2 columns</p>\n",
       "</div>"
      ],
      "text/plain": [
       "                     SNOTEL:SNWD_H  SNOTEL:WTEQ_H\n",
       "           datetime                              \n",
       "2016-11-15 0                   0.0           0.00\n",
       "           1                   0.0          -2.54\n",
       "           2                   0.0          -2.54\n",
       "           3                   0.0          -2.54\n",
       "           4                  25.4          -2.54\n",
       "...                            ...            ...\n",
       "2017-06-14 20                  0.0          93.98\n",
       "           21                  0.0          93.98\n",
       "           22                 25.4          91.44\n",
       "           23                  0.0          91.44\n",
       "2017-06-15 0                   0.0           0.00\n",
       "\n",
       "[4731 rows x 2 columns]"
      ]
     },
     "execution_count": 54,
     "metadata": {},
     "output_type": "execute_result"
    }
   ],
   "source": [
    "cssl_mm = cssl * 25.4"
   ]
  },
  {
   "cell_type": "code",
   "execution_count": 55,
   "metadata": {},
   "outputs": [],
   "source": [
    "cssl_mm.index.names = ['DateTime', 'DateTime']"
   ]
  },
  {
   "cell_type": "code",
   "execution_count": 69,
   "metadata": {},
   "outputs": [
    {
     "data": {
      "text/html": [
       "<div>\n",
       "<style scoped>\n",
       "    .dataframe tbody tr th:only-of-type {\n",
       "        vertical-align: middle;\n",
       "    }\n",
       "\n",
       "    .dataframe tbody tr th {\n",
       "        vertical-align: top;\n",
       "    }\n",
       "\n",
       "    .dataframe thead th {\n",
       "        text-align: right;\n",
       "    }\n",
       "</style>\n",
       "<table border=\"1\" class=\"dataframe\">\n",
       "  <thead>\n",
       "    <tr style=\"text-align: right;\">\n",
       "      <th></th>\n",
       "      <th>SNOTEL:SNWD_H</th>\n",
       "      <th>SNOTEL:WTEQ_H</th>\n",
       "    </tr>\n",
       "    <tr>\n",
       "      <th>DateTime</th>\n",
       "      <th></th>\n",
       "      <th></th>\n",
       "    </tr>\n",
       "  </thead>\n",
       "  <tbody>\n",
       "    <tr>\n",
       "      <th>2016-11-15</th>\n",
       "      <td>24</td>\n",
       "      <td>24</td>\n",
       "    </tr>\n",
       "    <tr>\n",
       "      <th>2016-11-16</th>\n",
       "      <td>20</td>\n",
       "      <td>20</td>\n",
       "    </tr>\n",
       "    <tr>\n",
       "      <th>2016-11-17</th>\n",
       "      <td>19</td>\n",
       "      <td>19</td>\n",
       "    </tr>\n",
       "    <tr>\n",
       "      <th>2016-11-18</th>\n",
       "      <td>24</td>\n",
       "      <td>24</td>\n",
       "    </tr>\n",
       "    <tr>\n",
       "      <th>2016-11-19</th>\n",
       "      <td>22</td>\n",
       "      <td>22</td>\n",
       "    </tr>\n",
       "    <tr>\n",
       "      <th>...</th>\n",
       "      <td>...</td>\n",
       "      <td>...</td>\n",
       "    </tr>\n",
       "    <tr>\n",
       "      <th>2017-06-11</th>\n",
       "      <td>21</td>\n",
       "      <td>21</td>\n",
       "    </tr>\n",
       "    <tr>\n",
       "      <th>2017-06-12</th>\n",
       "      <td>18</td>\n",
       "      <td>18</td>\n",
       "    </tr>\n",
       "    <tr>\n",
       "      <th>2017-06-13</th>\n",
       "      <td>24</td>\n",
       "      <td>24</td>\n",
       "    </tr>\n",
       "    <tr>\n",
       "      <th>2017-06-14</th>\n",
       "      <td>24</td>\n",
       "      <td>24</td>\n",
       "    </tr>\n",
       "    <tr>\n",
       "      <th>2017-06-15</th>\n",
       "      <td>1</td>\n",
       "      <td>1</td>\n",
       "    </tr>\n",
       "  </tbody>\n",
       "</table>\n",
       "<p>213 rows × 2 columns</p>\n",
       "</div>"
      ],
      "text/plain": [
       "            SNOTEL:SNWD_H  SNOTEL:WTEQ_H\n",
       "DateTime                                \n",
       "2016-11-15             24             24\n",
       "2016-11-16             20             20\n",
       "2016-11-17             19             19\n",
       "2016-11-18             24             24\n",
       "2016-11-19             22             22\n",
       "...                   ...            ...\n",
       "2017-06-11             21             21\n",
       "2017-06-12             18             18\n",
       "2017-06-13             24             24\n",
       "2017-06-14             24             24\n",
       "2017-06-15              1              1\n",
       "\n",
       "[213 rows x 2 columns]"
      ]
     },
     "execution_count": 69,
     "metadata": {},
     "output_type": "execute_result"
    }
   ],
   "source": [
    "cssl_mm.groupby(cssl_mm.index.get_level_values(0)).count()"
   ]
  },
  {
   "cell_type": "code",
   "execution_count": 56,
   "metadata": {},
   "outputs": [],
   "source": [
    "fn2 = r\"C:\\Users\\dlhogan\\Downloads\\428_26_WATERYEAR=2017.csv\"\n",
    "cssl = pd.read_csv(fn2, skiprows=2)"
   ]
  },
  {
   "cell_type": "code",
   "execution_count": 57,
   "metadata": {},
   "outputs": [],
   "source": [
    "cssl = cssl.groupby('Date').median()\n",
    "cssl.index.name = 'DateTime'\n",
    "cssl.index = pd.to_datetime(cssl.index, utc=False)\n",
    "cssl_mm = cssl[(cssl.index >= '2016-11-15') & (cssl.index <= '2017-06-15')]\n",
    "cssl_mm = cssl_mm.rename(columns={'WTEQ.I-1 (in) ':'SWE_SNOTEL'})\n",
    "cssl_mm = cssl_mm[cssl_mm['SWE_SNOTEL']>=0]\n",
    "cssl_mm = cssl_mm.sort_index()\n"
   ]
  },
  {
   "cell_type": "code",
   "execution_count": 58,
   "metadata": {},
   "outputs": [
    {
     "data": {
      "text/html": [
       "<div>\n",
       "<style scoped>\n",
       "    .dataframe tbody tr th:only-of-type {\n",
       "        vertical-align: middle;\n",
       "    }\n",
       "\n",
       "    .dataframe tbody tr th {\n",
       "        vertical-align: top;\n",
       "    }\n",
       "\n",
       "    .dataframe thead th {\n",
       "        text-align: right;\n",
       "    }\n",
       "</style>\n",
       "<table border=\"1\" class=\"dataframe\">\n",
       "  <thead>\n",
       "    <tr style=\"text-align: right;\">\n",
       "      <th></th>\n",
       "      <th>Site Id</th>\n",
       "      <th>SWE_SNOTEL</th>\n",
       "    </tr>\n",
       "    <tr>\n",
       "      <th>DateTime</th>\n",
       "      <th></th>\n",
       "      <th></th>\n",
       "    </tr>\n",
       "  </thead>\n",
       "  <tbody>\n",
       "    <tr>\n",
       "      <th>2016-11-16</th>\n",
       "      <td>428.0</td>\n",
       "      <td>0.10</td>\n",
       "    </tr>\n",
       "    <tr>\n",
       "      <th>2016-11-17</th>\n",
       "      <td>428.0</td>\n",
       "      <td>0.30</td>\n",
       "    </tr>\n",
       "    <tr>\n",
       "      <th>2016-11-18</th>\n",
       "      <td>428.0</td>\n",
       "      <td>0.00</td>\n",
       "    </tr>\n",
       "    <tr>\n",
       "      <th>2016-11-19</th>\n",
       "      <td>428.0</td>\n",
       "      <td>0.00</td>\n",
       "    </tr>\n",
       "    <tr>\n",
       "      <th>2016-11-20</th>\n",
       "      <td>428.0</td>\n",
       "      <td>2.30</td>\n",
       "    </tr>\n",
       "    <tr>\n",
       "      <th>...</th>\n",
       "      <td>...</td>\n",
       "      <td>...</td>\n",
       "    </tr>\n",
       "    <tr>\n",
       "      <th>2017-06-11</th>\n",
       "      <td>428.0</td>\n",
       "      <td>4.30</td>\n",
       "    </tr>\n",
       "    <tr>\n",
       "      <th>2017-06-12</th>\n",
       "      <td>428.0</td>\n",
       "      <td>4.60</td>\n",
       "    </tr>\n",
       "    <tr>\n",
       "      <th>2017-06-13</th>\n",
       "      <td>428.0</td>\n",
       "      <td>4.05</td>\n",
       "    </tr>\n",
       "    <tr>\n",
       "      <th>2017-06-14</th>\n",
       "      <td>428.0</td>\n",
       "      <td>3.60</td>\n",
       "    </tr>\n",
       "    <tr>\n",
       "      <th>2017-06-15</th>\n",
       "      <td>428.0</td>\n",
       "      <td>3.60</td>\n",
       "    </tr>\n",
       "  </tbody>\n",
       "</table>\n",
       "<p>203 rows × 2 columns</p>\n",
       "</div>"
      ],
      "text/plain": [
       "            Site Id  SWE_SNOTEL\n",
       "DateTime                       \n",
       "2016-11-16    428.0        0.10\n",
       "2016-11-17    428.0        0.30\n",
       "2016-11-18    428.0        0.00\n",
       "2016-11-19    428.0        0.00\n",
       "2016-11-20    428.0        2.30\n",
       "...             ...         ...\n",
       "2017-06-11    428.0        4.30\n",
       "2017-06-12    428.0        4.60\n",
       "2017-06-13    428.0        4.05\n",
       "2017-06-14    428.0        3.60\n",
       "2017-06-15    428.0        3.60\n",
       "\n",
       "[203 rows x 2 columns]"
      ]
     },
     "execution_count": 58,
     "metadata": {},
     "output_type": "execute_result"
    }
   ],
   "source": [
    "cssl_mm"
   ]
  },
  {
   "cell_type": "code",
   "execution_count": 59,
   "metadata": {},
   "outputs": [],
   "source": [
    "cssl_mm['SWE_SNOTEL'] = cssl_mm['SWE_SNOTEL']*25.4 \n",
    "cssl_mm = cssl_mm[cssl_mm['SWE_SNOTEL']<=1000]"
   ]
  },
  {
   "cell_type": "code",
   "execution_count": 60,
   "metadata": {},
   "outputs": [],
   "source": [
    "fn = r\"C:\\Users\\dlhogan\\OneDrive - UW\\Documents\\winter-quarter-2022\\WY2017_CSSL_alpine_hydromet.csv\"\n",
    "alpine_hydromet_2017 = pd.read_csv(fn)"
   ]
  },
  {
   "cell_type": "code",
   "execution_count": 61,
   "metadata": {},
   "outputs": [],
   "source": [
    "alpine_hydromet_2017['DateTime'] = pd.to_datetime(alpine_hydromet_2017['DateTime'], utc=False)\n",
    "\n",
    "idx = alpine_hydromet_2017['DateTime']\n",
    "alpine_hydromet_2017_D = alpine_hydromet_2017.groupby([idx.dt.date]).median()\n",
    "alpine_hydromet_2017_H = alpine_hydromet_2017.groupby([idx.dt.date, idx.dt.hour]).mean()"
   ]
  },
  {
   "cell_type": "code",
   "execution_count": 62,
   "metadata": {},
   "outputs": [],
   "source": [
    "fn3 =r\"C:\\Users\\dlhogan\\Downloads\\Whole_WY_2017.csv\"\n",
    "cssl_manual = pd.read_csv(fn3,parse_dates=['Date'], index_col=['Date'])"
   ]
  },
  {
   "cell_type": "code",
   "execution_count": 63,
   "metadata": {},
   "outputs": [],
   "source": [
    "cssl_manual.index.name = 'DateTime'\n",
    "cssl_manual_mm = cssl_manual[(cssl_manual.index >= '2016-11-15') & (cssl_manual.index <= '2017-06-15')]\n",
    "cssl_manual_mm = cssl_manual_mm.rename(columns={'Snow Water Equivalent (cm)':'SWE_manual'})\n",
    "cssl_manual_mm.index = pd.to_datetime(cssl_manual_mm.index, utc=False)\n",
    "cssl_manual_mm['SWE_manual'] = cssl_manual_mm['SWE_manual'].replace(to_replace='--', value=np.nan)\n",
    "cssl_manual_mm['SWE_manual'] = pd.to_numeric(cssl_manual_mm['SWE_manual'])\n",
    "cssl_manual_mm['SWE_manual'] = cssl_manual_mm['SWE_manual']*10"
   ]
  },
  {
   "cell_type": "code",
   "execution_count": 64,
   "metadata": {},
   "outputs": [],
   "source": [
    "if 'FSP9_mm' not in cssl_mm.columns:\n",
    "    cssl_mm = cssl_mm.join(alpine_hydromet_2017_D)"
   ]
  },
  {
   "cell_type": "code",
   "execution_count": 65,
   "metadata": {},
   "outputs": [],
   "source": [
    "cssl_mm = cssl_mm.join(cssl_manual_mm)"
   ]
  },
  {
   "cell_type": "code",
   "execution_count": 66,
   "metadata": {},
   "outputs": [
    {
     "data": {
      "text/plain": [
       "Text(0.5, 1.0, 'SWE Comparison - CSSL 2016-2017')"
      ]
     },
     "execution_count": 66,
     "metadata": {},
     "output_type": "execute_result"
    },
    {
     "data": {
      "image/png": "[encoded data removed]",
      "text/plain": [
       "<Figure size 720x360 with 1 Axes>"
      ]
     },
     "metadata": {
      "needs_background": "light"
     },
     "output_type": "display_data"
    }
   ],
   "source": [
    "fig, ax = plt.subplots(figsize=(10,5));\n",
    "cssl_mm.plot(y='FSP5_mm', ax=ax, color='r');\n",
    "cssl_mm.plot(y='FSP9_mm', ax=ax, color='cyan');\n",
    "ax.scatter(x=cssl_mm.index, y=cssl_mm['SWE_manual'], label='Manual SWE', marker='*',color='k');\n",
    "cssl_mm.plot(y='SWE_SNOTEL', ax=ax, c='b');\n",
    "ax.legend()\n",
    "ax.set_ylabel('SWE (mm)')\n",
    "ax.set_ylim(0,1000)\n",
    "ax.set_title('SWE Comparison - CSSL 2016-2017')"
   ]
  },
  {
   "cell_type": "code",
   "execution_count": 67,
   "metadata": {},
   "outputs": [
    {
     "data": {
      "text/plain": [
       "count     85.000000\n",
       "mean     -41.496615\n",
       "std       79.437321\n",
       "min     -234.531523\n",
       "25%      -92.600627\n",
       "50%      -56.999818\n",
       "75%      -17.279664\n",
       "max      234.677903\n",
       "dtype: float64"
      ]
     },
     "execution_count": 67,
     "metadata": {},
     "output_type": "execute_result"
    }
   ],
   "source": [
    "(cssl_mm['SWE_SNOTEL'] - cssl_mm['FSP9_mm']).describe()"
   ]
  },
  {
   "cell_type": "code",
   "execution_count": 68,
   "metadata": {},
   "outputs": [
    {
     "data": {
      "text/plain": [
       "89.20772620958114"
      ]
     },
     "execution_count": 68,
     "metadata": {},
     "output_type": "execute_result"
    }
   ],
   "source": [
    "from sklearn.metrics import mean_squared_error\n",
    "from math import sqrt\n",
    "\n",
    "rms1 = sqrt(mean_squared_error(cssl_mm['SWE_SNOTEL'], cssl_mm['FSP9_mm']))\n",
    "rms1"
   ]
  },
  {
   "cell_type": "code",
   "execution_count": 69,
   "metadata": {},
   "outputs": [
    {
     "data": {
      "text/plain": [
       "119.80122863041251"
      ]
     },
     "execution_count": 69,
     "metadata": {},
     "output_type": "execute_result"
    }
   ],
   "source": [
    "rms2 = sqrt(mean_squared_error(cssl_mm['SWE_SNOTEL'], cssl_mm['FSP5_mm']))\n",
    "rms2"
   ]
  },
  {
   "cell_type": "code",
   "execution_count": null,
   "metadata": {},
   "outputs": [],
   "source": []
  },
  {
   "cell_type": "code",
   "execution_count": null,
   "metadata": {},
   "outputs": [],
   "source": []
  }
 ],
 "metadata": {
  "interpreter": {
   "hash": "ec2898d006b5b8e6625a92fbc267fb7fd1a30eeb802113c4bf9ab67d1439f148"
  },
  "kernelspec": {
   "display_name": "Python 3.9.9 ('radiative_transfer')",
   "language": "python",
   "name": "python3"
  },
  "language_info": {
   "codemirror_mode": {
    "name": "ipython",
    "version": 3
   },
   "file_extension": ".py",
   "mimetype": "text/x-python",
   "name": "python",
   "nbconvert_exporter": "python",
   "pygments_lexer": "ipython3",
   "version": "3.8.11"
  },
  "orig_nbformat": 4
 },
 "nbformat": 4,
 "nbformat_minor": 2
}
