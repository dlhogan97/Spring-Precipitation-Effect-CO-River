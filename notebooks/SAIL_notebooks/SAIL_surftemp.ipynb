{
 "cells": [
  {
   "cell_type": "code",
   "execution_count": null,
   "metadata": {},
   "outputs": [],
   "source": [
    "# Import packages\n",
    "import ftplib\n",
    "from contextlib import closing\n",
    "import urllib.request\n",
    "import io\n",
    "import os\n",
    "\n",
    "import soslib.funcs as sos\n",
    "import nctoolkit as nc\n",
    "import matplotlib.pyplot as plt\n",
    "import pandas as pd\n",
    "import numpy as np\n",
    "import xarray as xr\n",
    "import act"
   ]
  },
  {
   "cell_type": "code",
   "execution_count": null,
   "metadata": {},
   "outputs": [],
   "source": [
    "import holoviews as hv \n",
    "import hvplot.xarray\n",
    "import panel as pn\n",
    "import panel.widgets as pnw\n",
    "\n",
    "hv.extension('bokeh')\n",
    "from bokeh.plotting import show"
   ]
  },
  {
   "cell_type": "markdown",
   "metadata": {},
   "source": [
    "Compare surface temperature to longwave out temp product, air temperature, other variables?"
   ]
  }
 ],
 "metadata": {
  "kernelspec": {
   "display_name": "Python 3.7.12 ('act_env')",
   "language": "python",
   "name": "python3"
  },
  "language_info": {
   "name": "python",
   "version": "3.7.12"
  },
  "orig_nbformat": 4,
  "vscode": {
   "interpreter": {
    "hash": "016f2555b5636ca837507a9bc5fc23afb24cbac032c4b61c76902beae4351a34"
   }
  }
 },
 "nbformat": 4,
 "nbformat_minor": 2
}
