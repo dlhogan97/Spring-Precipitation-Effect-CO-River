{
 "cells": [
  {
   "cell_type": "code",
   "execution_count": null,
   "metadata": {},
   "outputs": [],
   "source": [
    "# Import packages\n",
    "import ftplib\n",
    "from contextlib import closing\n",
    "import urllib.request\n",
    "import io\n",
    "import os\n",
    "\n",
    "import soslib.funcs as sos\n",
    "import nctoolkit as nc\n",
    "import matplotlib.pyplot as plt\n",
    "import pandas as pd\n",
    "import numpy as np\n",
    "import xarray as xr\n",
    "import act\n",
    "\n",
    "import holoviews as hv \n",
    "import hvplot.xarray\n",
    "import panel as pn\n",
    "import panel.widgets as pnw\n",
    "\n",
    "hv.extension('bokeh')\n",
    "from bokeh.plotting import show"
   ]
  },
  {
   "cell_type": "code",
   "execution_count": null,
   "metadata": {},
   "outputs": [],
   "source": [
    "username = 'dlhogan@uw.edu'\n",
    "token = '7f1c805e6ae94c21'\n",
    "inpath = '/storage/dlhogan/sos/data'\n",
    "outpath = '/storage/dlhogan/sos/data/ncdfs'"
   ]
  },
  {
   "cell_type": "code",
   "execution_count": null,
   "metadata": {},
   "outputs": [],
   "source": [
    "ecor_town = 'guc30ecorM1.b1'\n",
    "ecor_kp = 'guc30ecorS3.b1'\n",
    "surf_temp = 'gucgndirtM1.b1'\n",
    "ceil = 'gucceilM1.b1'\n",
    "sebs = 'gucsebsM1.b1'\n",
    "met ='gucmetM1.b1'\n",
    "hsrl = 'guchsrlM1.a1'\n",
    "sky_cover = 'guctsiskycoverM1.b1'\n",
    "start = '2022-01-01'\n",
    "end = '2022-01-31' "
   ]
  },
  {
   "cell_type": "code",
   "execution_count": null,
   "metadata": {},
   "outputs": [],
   "source": [
    "hsrl_ds = sos.get_sail_data(username, token, ceil,\n",
    "                                start, end)\n",
    "# met_ds = sos.get_sail_data(username, token, met, start, end)\n",
    "# sky_cover_ds = sos.get_sail_data(username, token, sky_cover, start, end)"
   ]
  },
  {
   "cell_type": "code",
   "execution_count": null,
   "metadata": {},
   "outputs": [],
   "source": [
    "hsrl_ds.sel(time=slice('2022-01-05','2022-01-07')).backscatter.hvplot.quadmesh(x='time', \n",
    "                                    cmap='inferno',\n",
    "                                    clim=(0,16000),\n",
    "                                    cnorm=('log'),\n",
    "                                    )"
   ]
  },
  {
   "cell_type": "code",
   "execution_count": null,
   "metadata": {},
   "outputs": [],
   "source": [
    "hsrl_ds_10min = hsrl_ds.resample(time='5min').mean()\n",
    "met_ds_10min = met_ds.resample(time='5min').mean()\n",
    "met_ds"
   ]
  },
  {
   "cell_type": "code",
   "execution_count": null,
   "metadata": {},
   "outputs": [],
   "source": [
    "ceilometer_plot = ds.backscatter.hvplot.quadmesh(x='time', \n",
    "                                    cmap='inferno',\n",
    "                                    clim=(0,16000),\n",
    "                                    cnorm=('log'),\n",
    "                                    ylim=(0,100)\n",
    "                                    )\n",
    "wind_plot = met_ds.wspd_arith_mean.hvplot()\n",
    "\n",
    "(ceilometer_plot + wind_plot).cols(1)"
   ]
  },
  {
   "cell_type": "code",
   "execution_count": null,
   "metadata": {},
   "outputs": [],
   "source": [
    "fig, ax = plt.subplots()\n",
    "ax.plot(ds.sel(time='2022-01-06T00:10:00').backscatter,ds.range)\n",
    "ax.set_ylim(0,500)"
   ]
  },
  {
   "cell_type": "markdown",
   "metadata": {},
   "source": [
    "# Let's identify clear sky periods without blowing snow:\n",
    "- look at sky imager data to filter to fully clear days\n",
    "- look at wind speed data to filter periods with low wind\n",
    "- get average backscatter during daytime to set threshold for clear sky"
   ]
  }
 ],
 "metadata": {
  "kernelspec": {
   "display_name": "Python 3.9.12 ('sos_env')",
   "language": "python",
   "name": "python3"
  },
  "language_info": {
   "codemirror_mode": {
    "name": "ipython",
    "version": 3
   },
   "file_extension": ".py",
   "mimetype": "text/x-python",
   "name": "python",
   "nbconvert_exporter": "python",
   "pygments_lexer": "ipython3",
   "version": "3.9.12"
  },
  "orig_nbformat": 4,
  "vscode": {
   "interpreter": {
    "hash": "dfeaad8a7c02a21065de2b8ca9dd8a7ef6e299545e3ffab7498cc4a2ac99a4c2"
   }
  }
 },
 "nbformat": 4,
 "nbformat_minor": 2
}
