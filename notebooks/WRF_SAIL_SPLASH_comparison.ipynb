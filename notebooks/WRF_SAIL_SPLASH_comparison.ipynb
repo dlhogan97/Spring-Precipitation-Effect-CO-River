{
 "cells": [
  {
   "cell_type": "code",
   "execution_count": null,
   "metadata": {},
   "outputs": [],
   "source": [
    "import xarray as xr\n",
    "import numpy as np\n",
    "import matplotlib.pyplot as plt\n",
    "from soslib import funcs\n",
    "from metpy.units import units\n",
    "import metpy.calc as calc"
   ]
  },
  {
   "cell_type": "code",
   "execution_count": null,
   "metadata": {},
   "outputs": [],
   "source": [
    "bb_climatology = pd.read_csv('../../data/billy_barr_monthly_avg.csv',sep='\\t')\n",
    "bb_climatology[bb_climatology==\" \"] = np.nan\n",
    "bb_climatology['WY'] = [int(str(year)[0:2]+str(year)[4:]) for year in bb_climatology['Year']]"
   ]
  }
 ],
 "metadata": {
  "kernelspec": {
   "display_name": "act_env",
   "language": "python",
   "name": "python3"
  },
  "language_info": {
   "name": "python",
   "version": "3.7.12 | packaged by conda-forge | (default, Oct 26 2021, 06:08:53) \n[GCC 9.4.0]"
  },
  "orig_nbformat": 4,
  "vscode": {
   "interpreter": {
    "hash": "5d96bc5175fe3d783eab17616eda6f556a2a14fc0c696df2e12f7a5c6559d0da"
   }
  }
 },
 "nbformat": 4,
 "nbformat_minor": 2
}
