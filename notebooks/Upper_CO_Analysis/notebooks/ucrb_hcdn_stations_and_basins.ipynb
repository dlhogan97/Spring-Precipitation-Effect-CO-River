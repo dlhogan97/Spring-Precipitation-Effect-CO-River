{
 "cells": [
  {
   "cell_type": "code",
   "execution_count": 1,
   "metadata": {},
   "outputs": [],
   "source": [
    "import pandas as pd\n",
    "import geopandas as gpd"
   ]
  },
  {
   "attachments": {},
   "cell_type": "markdown",
   "metadata": {},
   "source": [
    "### Grab HCDN Basins within Colorado, Utah, and Wyoming\n",
    "- gathered from https://water.usgs.gov/GIS/metadata/usgswrd/XML/gagesII_Sept2011.xml\n",
    "- Basins also grabbed from https://water.usgs.gov/GIS/metadata/usgswrd/XML/gagesII_Sept2011.xml\n"
   ]
  },
  {
   "cell_type": "code",
   "execution_count": null,
   "metadata": {},
   "outputs": [],
   "source": [
    "df = pd.read_excel('../../data/gagesII_sept30_2011_conterm.xlsx')\n",
    "gdf = gpd.GeoDataFrame(df,crs=\"EPSG:4326\", geometry=gpd.points_from_xy(x=df.LNG_GAGE, y=df.LAT_GAGE))\n",
    "gdf_filtered = gdf[(gdf['STATE'].isin(['CO','UT','WY'])) &\n",
    "                    ((gdf['HCDN-2009'] == 'yes') |\n",
    "                     (gdf['OLD_HCDN'] == 'yes'))].set_index('STAID',drop=True)"
   ]
  },
  {
   "attachments": {},
   "cell_type": "markdown",
   "metadata": {},
   "source": [
    "### Filter to Basins within the UCRB"
   ]
  },
  {
   "cell_type": "code",
   "execution_count": null,
   "metadata": {},
   "outputs": [],
   "source": [
    "ucrb_polygon = gpd.read_file('../multisite/polygons/Upper_Colorado_River_Basin_Boundary.json')\n",
    "gdf_filtered_ucrb = gdf_filtered.clip(ucrb_polygon).to_crs('EPSG:5070')\n",
    "gdf_filtered_ucrb.to_file('./basin_characteristics/ucrb_hcdn_stations.json',driver='GeoJSON')"
   ]
  },
  {
   "attachments": {},
   "cell_type": "markdown",
   "metadata": {},
   "source": [
    "### Grab Snotel Stations in UCRB"
   ]
  },
  {
   "cell_type": "code",
   "execution_count": 12,
   "metadata": {},
   "outputs": [],
   "source": [
    "# Get SNTL data\n",
    "AWDB_API_DOMAIN = \"https://api.snowdata.info\"\n",
    "sntl_meta_url = f\"{AWDB_API_DOMAIN}/stations/getMeta?network=SNTL&format=geojson\"\n",
    "\n",
    "# Get the data and rename everything to match the snow ex columns\n",
    "gdf_sntl = gpd.read_file(sntl_meta_url).rename(\n",
    "    columns={\"name\": \"site_name\", \"stationTriplet\": \"site_id\"}\n",
    ")\n",
    "\n",
    "gdf_sntl = gdf_sntl.to_crs('4326')"
   ]
  },
  {
   "cell_type": "code",
   "execution_count": 15,
   "metadata": {},
   "outputs": [],
   "source": [
    "gdf_sntl_ucrb = gdf_sntl.clip(ucrb_polygon)\n",
    "# gdf_sntl_ucrb.to_file('ucrb_SNOTEL_locations.json', driver='GeoJSON')"
   ]
  }
 ],
 "metadata": {
  "kernelspec": {
   "display_name": "sos_env",
   "language": "python",
   "name": "python3"
  },
  "language_info": {
   "codemirror_mode": {
    "name": "ipython",
    "version": 3
   },
   "file_extension": ".py",
   "mimetype": "text/x-python",
   "name": "python",
   "nbconvert_exporter": "python",
   "pygments_lexer": "ipython3",
   "version": "3.9.13"
  },
  "orig_nbformat": 4
 },
 "nbformat": 4,
 "nbformat_minor": 2
}
