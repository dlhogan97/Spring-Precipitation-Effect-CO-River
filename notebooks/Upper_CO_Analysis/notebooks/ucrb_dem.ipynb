{
 "cells": [
  {
   "cell_type": "code",
   "execution_count": 1,
   "metadata": {},
   "outputs": [],
   "source": [
    "import xarray as xr\n",
    "import rioxarray as rxr\n",
    "from rioxarray.merge import merge_arrays\n",
    "from rasterio.enums import Resampling\n",
    "import geopandas as gpd\n",
    "import os"
   ]
  },
  {
   "attachments": {},
   "cell_type": "markdown",
   "metadata": {},
   "source": [
    "# Creates a 150m DEM for the UCRB"
   ]
  },
  {
   "cell_type": "code",
   "execution_count": 2,
   "metadata": {},
   "outputs": [
    {
     "name": "stdout",
     "output_type": "stream",
     "text": [
      "Working on USGS_1_n36w106_20220801.tif...\n",
      "Done!\n",
      "Working on USGS_1_n36w107_20220801.tif...\n",
      "Done!\n",
      "Working on USGS_1_n36w108_20220801.tif...\n",
      "Done!\n",
      "Working on USGS_1_n36w112_20230418.tif...\n",
      "Done!\n",
      "Working on USGS_1_n37w106_20220801.tif...\n",
      "Done!\n",
      "Working on USGS_1_n37w107_20220801.tif...\n",
      "Done!\n",
      "Working on USGS_1_n37w108_20220801.tif...\n",
      "Done!\n",
      "Working on USGS_1_n37w109_20220720.tif...\n",
      "Done!\n",
      "Working on USGS_1_n36w109_20211207.tif...\n",
      "Done!\n",
      "Working on USGS_1_n37w110_20220720.tif...\n",
      "Done!\n",
      "Working on USGS_1_n37w111_20211215.tif...\n",
      "Done!\n",
      "Working on USGS_1_n37w112_20230418.tif...\n",
      "Done!\n",
      "Working on USGS_1_n38w106_20211208.tif...\n",
      "Done!\n",
      "Working on USGS_1_n38w107_20220720.tif...\n",
      "Done!\n",
      "Working on USGS_1_n38w108_20220720.tif...\n",
      "Done!\n",
      "Working on USGS_1_n36w110_20211207.tif...\n",
      "Done!\n",
      "Working on USGS_1_n36w111_20220303.tif...\n",
      "Done!\n",
      "Working on USGS_1_n38w111_20211215.tif...\n",
      "Done!\n",
      "Working on USGS_1_n38w112_20211215.tif...\n",
      "Done!\n",
      "Working on USGS_1_n39w106_20211208.tif...\n",
      "Done!\n",
      "Working on USGS_1_n39w107_20220331.tif...\n",
      "Done!\n",
      "Working on USGS_1_n39w108_20220720.tif...\n",
      "Done!\n",
      "Working on USGS_1_n39w109_20211208.tif...\n",
      "Done!\n",
      "Working on USGS_1_n39w110_20220510.tif...\n",
      "Done!\n",
      "Working on USGS_1_n39w111_20211215.tif...\n",
      "Done!\n",
      "Working on USGS_1_n39w112_20211215.tif...\n",
      "Done!\n",
      "Working on USGS_1_n40w106_20220216.tif...\n",
      "Done!\n",
      "Working on USGS_1_n40w107_20220216.tif...\n",
      "Done!\n",
      "Working on USGS_1_n40w108_20211208.tif...\n",
      "Done!\n",
      "Working on USGS_1_n40w109_20180328.tif...\n",
      "Done!\n",
      "Working on USGS_1_n40w110_20220510.tif...\n",
      "Done!\n",
      "Working on USGS_1_n40w111_20220510.tif...\n",
      "Done!\n",
      "Working on USGS_1_n40w112_20220510.tif...\n",
      "Done!\n",
      "Working on USGS_1_n41w106_20230314.tif...\n",
      "Done!\n",
      "Working on USGS_1_n41w107_20230314.tif...\n",
      "Done!\n",
      "Working on USGS_1_n38w109_20220720.tif...\n",
      "Done!\n",
      "Working on USGS_1_n38w110_20220720.tif...\n",
      "Done!\n",
      "Working on USGS_1_n41w108_20230314.tif...\n",
      "Done!\n",
      "Working on USGS_1_n41w109_20220805.tif...\n",
      "Done!\n",
      "Working on USGS_1_n41w110_20220805.tif...\n",
      "Done!\n",
      "Working on USGS_1_n41w111_20221115.tif...\n",
      "Done!\n",
      "Working on USGS_1_n41w112_20221115.tif...\n",
      "Done!\n",
      "Working on USGS_1_n42w106_20230314.tif...\n",
      "Done!\n",
      "Working on USGS_1_n42w107_20230314.tif...\n",
      "Done!\n",
      "Working on USGS_1_n42w108_20230314.tif...\n",
      "Done!\n",
      "Working on USGS_1_n42w109_20220805.tif...\n",
      "Done!\n",
      "Working on USGS_1_n42w110_20220805.tif...\n",
      "Done!\n",
      "Working on USGS_1_n42w111_20220805.tif...\n",
      "Done!\n",
      "Working on USGS_1_n42w112_20220805.tif...\n",
      "Done!\n",
      "Working on USGS_1_n43w108_20230314.tif...\n",
      "Done!\n",
      "Working on USGS_1_n43w109_20220805.tif...\n",
      "Done!\n",
      "Working on USGS_1_n43w110_20220805.tif...\n",
      "Done!\n",
      "Working on USGS_1_n43w111_20220805.tif...\n",
      "Done!\n",
      "Working on USGS_1_n43w112_20220805.tif...\n",
      "Done!\n",
      "Working on USGS_1_n43w106_20230314.tif...\n",
      "Done!\n",
      "Working on USGS_1_n43w107_20230314.tif...\n",
      "Done!\n",
      "Working on USGS_1_n37w113_20230418.tif...\n",
      "Done!\n",
      "Working on USGS_1_n38w113_20211215.tif...\n",
      "Done!\n",
      "Working on USGS_1_n44w110_20210615.tif...\n",
      "Done!\n",
      "Working on USGS_1_n44w111_20210615.tif...\n",
      "Done!\n"
     ]
    }
   ],
   "source": [
    "path_str = '/storage/dlhogan/sos/data/dem/'\n",
    "filenames = os.listdir(path_str)\n",
    "dem_list=[]\n",
    "for filename in filenames:\n",
    "    print(f'Working on {filename}...')\n",
    "    path_to_file = os.path.join(path_str,filename)\n",
    "    raster = rxr.open_rasterio(path_to_file)\n",
    "    downscale_factor = 5\n",
    "    \n",
    "    # Caluculate new height and width using upscale_factor\n",
    "    new_width = raster.rio.width / downscale_factor\n",
    "    new_height = raster.rio.height / downscale_factor\n",
    "    \n",
    "    #downsample raster to 150 m from 30 m\n",
    "    down_sampled = raster.rio.reproject(raster.rio.crs, shape=(int(new_height), int(new_width)), resampling=Resampling.bilinear)\n",
    "    dem_list.append(down_sampled)\n",
    "    print('Done!')"
   ]
  },
  {
   "cell_type": "code",
   "execution_count": 3,
   "metadata": {},
   "outputs": [],
   "source": [
    "co_crs = 32613\n",
    "# Merge, reproject and mask array\n",
    "merged_dem = merge_arrays(dem_list).squeeze()\n",
    "merged_dem = merged_dem.rio.reproject(co_crs)\n",
    "merged_dem = merged_dem.where(merged_dem>0)\n",
    "# Load in UCRB boundary\n",
    "ucrb_boundary = gpd.read_file('../basin_characteristics/Upper_Colorado_River_Basin_Boundary.json')\n",
    "ucrb_boundary = ucrb_boundary.to_crs(co_crs)\n",
    "# Clip the dem to the UCRB\n",
    "merged_dem_ucrb = merged_dem.rio.clip(ucrb_boundary.geometry)\n",
    "merged_dem_ucrb_ma = merged_dem_ucrb.where(merged_dem_ucrb>0)"
   ]
  },
  {
   "cell_type": "code",
   "execution_count": 4,
   "metadata": {},
   "outputs": [],
   "source": [
    "merged_dem_ucrb_ma.rio.to_raster('../basin_characteristics/ucrb_dem_32613_150m.tif')"
   ]
  },
  {
   "cell_type": "markdown",
   "metadata": {},
   "source": [
    "### Clip Tree Cover Raster to UCRB Extent"
   ]
  },
  {
   "cell_type": "code",
   "execution_count": 2,
   "metadata": {},
   "outputs": [],
   "source": [
    "from shapely.geometry import mapping, Polygon\n",
    "tree_cover = rxr.open_rasterio('../basin_characteristics/ucrb_tree_cover_fraction.tif')\n",
    "ucrb_boundary = gpd.read_file('../basin_characteristics/Upper_Colorado_River_Basin_Boundary.json')\n",
    "ucrb_boundary = ucrb_boundary.to_crs(tree_cover.rio.crs)\n",
    "ucrb_tree_cover = tree_cover.rio.clip(ucrb_boundary.geometry.apply(mapping), drop=False, invert=False, from_disk=True)\n"
   ]
  },
  {
   "cell_type": "code",
   "execution_count": 3,
   "metadata": {},
   "outputs": [],
   "source": [
    "ucrb_tree_cover.rio.to_raster('../basin_characteristics/ucrb_tree_cover_fraction_cleaned.tif')"
   ]
  },
  {
   "cell_type": "code",
   "execution_count": null,
   "metadata": {},
   "outputs": [],
   "source": []
  }
 ],
 "metadata": {
  "kernelspec": {
   "display_name": "soil_moisture_env",
   "language": "python",
   "name": "python3"
  },
  "language_info": {
   "codemirror_mode": {
    "name": "ipython",
    "version": 3
   },
   "file_extension": ".py",
   "mimetype": "text/x-python",
   "name": "python",
   "nbconvert_exporter": "python",
   "pygments_lexer": "ipython3",
   "version": "3.9.13"
  },
  "orig_nbformat": 4
 },
 "nbformat": 4,
 "nbformat_minor": 2
}
