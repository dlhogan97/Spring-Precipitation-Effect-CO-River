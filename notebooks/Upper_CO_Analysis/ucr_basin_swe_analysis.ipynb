{
 "cells": [
  {
   "cell_type": "code",
   "execution_count": 1,
   "metadata": {},
   "outputs": [],
   "source": [
    "import geopandas as gpd\n",
    "import xarray as xr\n",
    "import pandas as pd\n",
    "\n",
    "# from metloom.pointdata import SnotelPointData, USGSPointData, MesowestPointData\n",
    "import datetime as dt\n",
    "import matplotlib.pyplot as plt\n",
    "import pygeohydro as gh"
   ]
  },
  {
   "cell_type": "code",
   "execution_count": null,
   "metadata": {},
   "outputs": [],
   "source": []
  },
  {
   "cell_type": "code",
   "execution_count": 12,
   "metadata": {},
   "outputs": [],
   "source": [
    "ucrb_hcdn_stations = gpd.read_file('./ucrb_hcdn_stations.json')"
   ]
  },
  {
   "cell_type": "code",
   "execution_count": 17,
   "metadata": {},
   "outputs": [
    {
     "data": {
      "text/html": [
       "<div>\n",
       "<style scoped>\n",
       "    .dataframe tbody tr th:only-of-type {\n",
       "        vertical-align: middle;\n",
       "    }\n",
       "\n",
       "    .dataframe tbody tr th {\n",
       "        vertical-align: top;\n",
       "    }\n",
       "\n",
       "    .dataframe thead th {\n",
       "        text-align: right;\n",
       "    }\n",
       "</style>\n",
       "<table border=\"1\" class=\"dataframe\">\n",
       "  <thead>\n",
       "    <tr style=\"text-align: right;\">\n",
       "      <th></th>\n",
       "      <th>station_id</th>\n",
       "      <th>geometry</th>\n",
       "    </tr>\n",
       "  </thead>\n",
       "  <tbody>\n",
       "    <tr>\n",
       "      <th>0</th>\n",
       "      <td>6614800</td>\n",
       "      <td>POINT (40.49609 -105.86501)</td>\n",
       "    </tr>\n",
       "    <tr>\n",
       "      <th>1</th>\n",
       "      <td>6746095</td>\n",
       "      <td>POINT (40.53998 -105.88279)</td>\n",
       "    </tr>\n",
       "    <tr>\n",
       "      <th>2</th>\n",
       "      <td>7083000</td>\n",
       "      <td>POINT (39.17221 -106.38919)</td>\n",
       "    </tr>\n",
       "    <tr>\n",
       "      <th>3</th>\n",
       "      <td>7105945</td>\n",
       "      <td>POINT (38.70749 -104.84664)</td>\n",
       "    </tr>\n",
       "    <tr>\n",
       "      <th>4</th>\n",
       "      <td>9034900</td>\n",
       "      <td>POINT (39.76026 -105.90640)</td>\n",
       "    </tr>\n",
       "    <tr>\n",
       "      <th>5</th>\n",
       "      <td>9035800</td>\n",
       "      <td>POINT (39.80054 -106.02641)</td>\n",
       "    </tr>\n",
       "    <tr>\n",
       "      <th>6</th>\n",
       "      <td>9035900</td>\n",
       "      <td>POINT (39.79582 -106.03057)</td>\n",
       "    </tr>\n",
       "    <tr>\n",
       "      <th>7</th>\n",
       "      <td>9047700</td>\n",
       "      <td>POINT (39.59443 -105.97252)</td>\n",
       "    </tr>\n",
       "    <tr>\n",
       "      <th>8</th>\n",
       "      <td>9065500</td>\n",
       "      <td>POINT (39.62582 -106.27808)</td>\n",
       "    </tr>\n",
       "    <tr>\n",
       "      <th>9</th>\n",
       "      <td>9066000</td>\n",
       "      <td>POINT (39.59638 -106.26503)</td>\n",
       "    </tr>\n",
       "    <tr>\n",
       "      <th>10</th>\n",
       "      <td>9066200</td>\n",
       "      <td>POINT (39.64832 -106.32308)</td>\n",
       "    </tr>\n",
       "    <tr>\n",
       "      <th>11</th>\n",
       "      <td>9066300</td>\n",
       "      <td>POINT (39.64582 -106.38225)</td>\n",
       "    </tr>\n",
       "    <tr>\n",
       "      <th>12</th>\n",
       "      <td>9081600</td>\n",
       "      <td>POINT (39.23221 -107.22727)</td>\n",
       "    </tr>\n",
       "    <tr>\n",
       "      <th>13</th>\n",
       "      <td>9107000</td>\n",
       "      <td>POINT (38.86027 -106.56670)</td>\n",
       "    </tr>\n",
       "    <tr>\n",
       "      <th>14</th>\n",
       "      <td>9306242</td>\n",
       "      <td>POINT (39.92025 -108.47287)</td>\n",
       "    </tr>\n",
       "    <tr>\n",
       "      <th>15</th>\n",
       "      <td>9352900</td>\n",
       "      <td>POINT (37.47750 -107.54367)</td>\n",
       "    </tr>\n",
       "  </tbody>\n",
       "</table>\n",
       "</div>"
      ],
      "text/plain": [
       "    station_id                     geometry\n",
       "0      6614800  POINT (40.49609 -105.86501)\n",
       "1      6746095  POINT (40.53998 -105.88279)\n",
       "2      7083000  POINT (39.17221 -106.38919)\n",
       "3      7105945  POINT (38.70749 -104.84664)\n",
       "4      9034900  POINT (39.76026 -105.90640)\n",
       "5      9035800  POINT (39.80054 -106.02641)\n",
       "6      9035900  POINT (39.79582 -106.03057)\n",
       "7      9047700  POINT (39.59443 -105.97252)\n",
       "8      9065500  POINT (39.62582 -106.27808)\n",
       "9      9066000  POINT (39.59638 -106.26503)\n",
       "10     9066200  POINT (39.64832 -106.32308)\n",
       "11     9066300  POINT (39.64582 -106.38225)\n",
       "12     9081600  POINT (39.23221 -107.22727)\n",
       "13     9107000  POINT (38.86027 -106.56670)\n",
       "14     9306242  POINT (39.92025 -108.47287)\n",
       "15     9352900  POINT (37.47750 -107.54367)"
      ]
     },
     "execution_count": 17,
     "metadata": {},
     "output_type": "execute_result"
    }
   ],
   "source": [
    "ucrb_hcdn_stations"
   ]
  },
  {
   "cell_type": "code",
   "execution_count": null,
   "metadata": {},
   "outputs": [],
   "source": []
  }
 ],
 "metadata": {
  "kernelspec": {
   "display_name": "taylor_river_env",
   "language": "python",
   "name": "python3"
  },
  "language_info": {
   "codemirror_mode": {
    "name": "ipython",
    "version": 3
   },
   "file_extension": ".py",
   "mimetype": "text/x-python",
   "name": "python",
   "nbconvert_exporter": "python",
   "pygments_lexer": "ipython3",
   "version": "3.10.9"
  },
  "orig_nbformat": 4,
  "vscode": {
   "interpreter": {
    "hash": "a6f3a9d4e7947b926f9c98e49d97fef31e1c900cb06666efd6629804eff84a96"
   }
  }
 },
 "nbformat": 4,
 "nbformat_minor": 2
}
