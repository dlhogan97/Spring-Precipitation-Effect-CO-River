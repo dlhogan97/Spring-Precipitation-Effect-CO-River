{
 "cells": [
  {
   "cell_type": "code",
   "execution_count": 1,
   "metadata": {},
   "outputs": [],
   "source": [
    "from pygeohydro import WBD"
   ]
  },
  {
   "cell_type": "code",
   "execution_count": 2,
   "metadata": {},
   "outputs": [],
   "source": [
    "wbd = WBD(\"huc4\")\n",
    "ucrb = wbd.byids(\"huc4\", [\"1401\", \"1402\", \"1403\",\"1404\",\"1405\", \"1406\", \"1407\",\"1408\"])"
   ]
  },
  {
   "cell_type": "code",
   "execution_count": 6,
   "metadata": {},
   "outputs": [],
   "source": [
    "# ucrb.to_file('./ucrb_hcdn_huc4.json', driver='GeoJSON')"
   ]
  }
 ],
 "metadata": {
  "kernelspec": {
   "display_name": "pygeohydro",
   "language": "python",
   "name": "python3"
  },
  "language_info": {
   "codemirror_mode": {
    "name": "ipython",
    "version": 3
   },
   "file_extension": ".py",
   "mimetype": "text/x-python",
   "name": "python",
   "nbconvert_exporter": "python",
   "pygments_lexer": "ipython3",
   "version": "3.10.9"
  },
  "orig_nbformat": 4,
  "vscode": {
   "interpreter": {
    "hash": "9588343aa615cb174820a8498642ab81d7ab1ea0ebb78ea4bef1826a45591537"
   }
  }
 },
 "nbformat": 4,
 "nbformat_minor": 2
}
