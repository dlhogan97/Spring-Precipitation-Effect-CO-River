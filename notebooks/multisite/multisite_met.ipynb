{
 "cells": [
  {
   "cell_type": "code",
   "execution_count": null,
   "metadata": {},
   "outputs": [],
   "source": [
    "# Import packages\n",
    "\n",
    "# General imports\n",
    "import os\n",
    "import pandas as pd\n",
    "import numpy as np\n",
    "import xarray as xr\n",
    "import datetime as dt\n",
    "\n",
    "# Toolkits\n",
    "import nctoolkit as nc\n",
    "nc.deep_clean() # Ensure nothing is saved to tmp\n",
    "import metpy.calc as calc\n",
    "\n",
    "# Statistical Tools\n",
    "import statsmodels.api as sm\n",
    "import scipy.stats as stats\n",
    "\n",
    "# Other Specific packages\n",
    "import soslib.funcs as sos\n",
    "import turbpy # need to install my forked version\n",
    "import turbpy.multiConst as mc\n",
    "\n",
    "# Visualization\n",
    "import matplotlib.pyplot as plt\n",
    "from matplotlib.dates import DateFormatter\n",
    "import holoviews as hv \n",
    "import hvplot.xarray\n",
    "import panel as pn\n",
    "import panel.widgets as pnw\n",
    "pn.extension(comms='vscode')\n",
    "hv.extension('bokeh')\n",
    "from bokeh.plotting import show"
   ]
  }
 ],
 "metadata": {
  "kernelspec": {
   "display_name": "Python 3.9.12 ('sos_env')",
   "language": "python",
   "name": "python3"
  },
  "language_info": {
   "name": "python",
   "version": "3.9.12"
  },
  "orig_nbformat": 4,
  "vscode": {
   "interpreter": {
    "hash": "dfeaad8a7c02a21065de2b8ca9dd8a7ef6e299545e3ffab7498cc4a2ac99a4c2"
   }
  }
 },
 "nbformat": 4,
 "nbformat_minor": 2
}
