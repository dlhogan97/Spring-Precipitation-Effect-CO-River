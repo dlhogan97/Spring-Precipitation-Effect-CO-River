{
 "cells": [
  {
   "cell_type": "code",
   "execution_count": 2,
   "metadata": {},
   "outputs": [],
   "source": [
    "from datetime import datetime\n",
    "import datetime as dt\n",
    "import pandas as pd\n",
    "import numpy as np\n",
    "import urllib.request, json\n",
    "import scipy.stats as stats\n",
    "import statsmodels.api as sm\n",
    "\n",
    "from metloom.pointdata import MesowestPointData, SnotelPointData\n",
    "import dataretrieval.nwis as nwis\n",
    "import pyet\n",
    "import metpy.calc as calc\n",
    "from metpy.units import units"
   ]
  },
  {
   "cell_type": "code",
   "execution_count": 3,
   "metadata": {},
   "outputs": [],
   "source": [
    "def calc_net_lw_radiation(temperature, relative_humidity, elevation, dew_pt_temp=None):\n",
    "    \"\"\"Compute net longwave clear sky radiation from temperature measurements, relative humidy values and site elevation\n",
    "\n",
    "\n",
    "    Args:\n",
    "        temperature (array-like): mean daily temperatures (C)\n",
    "        relative_humidity (array-like): mean relative humidity (%)\n",
    "        elevation (float): site elevation (m)\n",
    "        dew_pt_temp (array-like, optional): Dew point temperature, include if measured. Defaults to None.\n",
    "\n",
    "    Returns:\n",
    "        Series: net longwave radiations in W/m2\n",
    "    \"\"\"\n",
    "    SIGMA = 5.67e-8\n",
    "    CONSTANT = 40\n",
    "\n",
    "    # Convert temperature to Kelvin\n",
    "    temperature_K = temperature.to_xarray().squeeze()+273.15\n",
    "    temperature_K.attrs = {'units':'K'}\n",
    "\n",
    "\n",
    "    # Using Marks & Dozier, 1979 to calculate emissivity \n",
    "    T_prime = temperature_K + (0.0065 * elevation)\n",
    "    T_prime.attrs = {'units':'K'}\n",
    "    e_prime = relative_humidity*calc.saturation_vapor_pressure(T_prime)/100\n",
    "    \n",
    "    # Hydrostatic pressure\n",
    "    standard_p = 101325*((293+(elevation*-0.0065))/293)**(-9.81*0.0299/(-.0065*8.314))\n",
    "    # Emissivity estimate\n",
    "    epsilon_atmos=(1.24 * (e_prime/T_prime)**(1/7) * (standard_p)/101300)\n",
    "\n",
    "    # Longwave in estimate\n",
    "    lw_in = epsilon_atmos * SIGMA * temperature_K**4 - CONSTANT\n",
    "\n",
    "    # Calculate longwave out\n",
    "    if dew_pt_temp is None:\n",
    "        dew_pt_temp = calc.dewpoint_from_relative_humidity(temperature_K,(relative_humidity/100).to_xarray()).values\n",
    "    lw_out = SIGMA*(dew_pt_temp+273.15)**4\n",
    "\n",
    "    # Compute net longwave radiation\n",
    "    rnet = lw_in - lw_out\n",
    "    return rnet\n",
    "\n",
    "def normalize_data(df):\n",
    "    '''Normalized a pandas series'''\n",
    "    norm = (df - df.mean())/df.std()\n",
    "    norm.index = norm.index.astype(int)\n",
    "    return norm"
   ]
  },
  {
   "cell_type": "markdown",
   "metadata": {},
   "source": [
    "What I want is a figure to compare the peak swe with discharge (normalized)\n",
    "- then I will have one legend for signal type (warm year, cold year, dry year, wet year, soil moisture is high or low)\n",
    "- normalized sublimation estimate will be the size of each circle"
   ]
  },
  {
   "cell_type": "markdown",
   "metadata": {},
   "source": [
    "## Taylor Park Met Data 1988-2021"
   ]
  },
  {
   "cell_type": "code",
   "execution_count": 4,
   "metadata": {},
   "outputs": [],
   "source": [
    "# Get data and filter appropriately\n",
    "taylor_park_df = pd.read_csv('data/taylor_park_daily_met.txt',sep='\\s+')\n",
    "taylor_park_elev = 3201\n",
    "taylor_park_df = taylor_park_df.set_index('Date')\n",
    "taylor_park_df = taylor_park_df.replace(-9999,np.nan)\n",
    "taylor_park_df.index = pd.to_datetime(taylor_park_df.index)\n",
    "taylor_park_df['Year'] =  taylor_park_df.index.year.where(taylor_park_df.index.month < 10, taylor_park_df.index.year + 1)\n",
    "taylor_park_df = taylor_park_df.rename(columns={'Year':'Water_Yr'})\n",
    "\n",
    "# Calculated lw net and winterize the data\n",
    "winter_taylor_park_df = taylor_park_df.loc[(taylor_park_df.index.month < 5) | (taylor_park_df.index.month == 12) ]\n",
    "net_taylor_winter = calc_net_lw_radiation(temperature=winter_taylor_park_df['AveT'], \n",
    "                      relative_humidity=winter_taylor_park_df['AveRH'],\n",
    "                      elevation=taylor_park_elev\n",
    "                        )\n"
   ]
  },
  {
   "cell_type": "code",
   "execution_count": 22,
   "metadata": {},
   "outputs": [],
   "source": [
    "# Years in highest and lowest quartile of temperature:\n",
    "taylor_park_annual_df = taylor_park_df[(taylor_park_df['Water_Yr']>1988) &(taylor_park_df['Water_Yr']<2022)].groupby(['Water_Yr']).mean()\n",
    "\n",
    "warm_years = taylor_park_annual_df[taylor_park_annual_df['AveT']>np.percentile(taylor_park_annual_df['AveT'],75)].index\n",
    "cold_years = taylor_park_annual_df[taylor_park_annual_df['AveT']<np.percentile(taylor_park_annual_df['AveT'],25)].index"
   ]
  },
  {
   "cell_type": "code",
   "execution_count": 23,
   "metadata": {},
   "outputs": [],
   "source": [
    "sublimation_taylor_pm = pyet.pm(tmean=winter_taylor_park_df['AveT'],\n",
    "        tmax=winter_taylor_park_df['MaxT'],\n",
    "        tmin=winter_taylor_park_df['MinT'],\n",
    "        rhmax=winter_taylor_park_df['MaxRH'],\n",
    "        rhmin=winter_taylor_park_df['MinRH'],\n",
    "        wind=winter_taylor_park_df['WSpd'],\n",
    "        rh=winter_taylor_park_df['AveRH'],\n",
    "        rn=net_taylor_winter*3600*24/1e6 ,\n",
    "        elevation=taylor_park_elev,\n",
    "        r_l=0,\n",
    "        r_s=0,\n",
    "        a_sh=0.5,\n",
    "        ra_method=1)\n",
    "sublimation_taylor_pm_df = sublimation_taylor_pm.to_frame(name='sublimation_mm')\n",
    "sublimation_taylor_pm_df['water_year'] =  sublimation_taylor_pm_df.index.year.where(sublimation_taylor_pm_df.index.month < 10, sublimation_taylor_pm_df.index.year + 1)\n",
    "sublimation_taylor_totals = sublimation_taylor_pm_df['sublimation_mm'].groupby(sublimation_taylor_pm_df['water_year']).sum()\n",
    "sublimation_taylor_totals.rename = 'sublimation'  \n",
    "      "
   ]
  },
  {
   "cell_type": "markdown",
   "metadata": {},
   "source": [
    "## Get Snotel or Snow Course Data\n",
    "Compute estimated sublimation at Taylor Park\n",
    "Pull daily snotel point data from 1991-2022 from Butte snotel station"
   ]
  },
  {
   "cell_type": "code",
   "execution_count": 24,
   "metadata": {},
   "outputs": [],
   "source": [
    "\n",
    "snotel_point = SnotelPointData(\"380:CO:SNTL\", \"Butte\")\n",
    "butte_df = snotel_point.get_daily_data(\n",
    "    datetime(1991, 1, 1), datetime(2021, 9, 30),\n",
    "    [snotel_point.ALLOWED_VARIABLES.PRECIPITATION,\n",
    "     snotel_point.ALLOWED_VARIABLES.PRECIPITATIONACCUM,\n",
    "     snotel_point.ALLOWED_VARIABLES.SNOWDEPTH,\n",
    "     snotel_point.ALLOWED_VARIABLES.SWE,\n",
    "     snotel_point.ALLOWED_VARIABLES.TEMP]\n",
    ")\n",
    "butte_df = butte_df.droplevel(1)\n",
    "\n",
    "# Add water year\n",
    "butte_df['water_year'] =  butte_df.index.year.where(butte_df.index.month < 10, butte_df.index.year + 1)\n",
    "\n",
    "# Get max swe\n",
    "butte_max_swe_mm = butte_df['SWE'].groupby(butte_df.index.year).max()*25.4"
   ]
  },
  {
   "cell_type": "code",
   "execution_count": 25,
   "metadata": {},
   "outputs": [],
   "source": [
    "# Wet years and dry years (top and bottom quartile)\n",
    "butte_precip_annual = butte_df['ACCUMULATED PRECIPITATION'].groupby(butte_df['water_year']).max()\n",
    "\n",
    "wet_years = butte_precip_annual[butte_precip_annual>np.percentile(butte_precip_annual,75)].index\n",
    "dry_years = butte_precip_annual[butte_precip_annual<np.percentile(butte_precip_annual,25)].index"
   ]
  },
  {
   "cell_type": "code",
   "execution_count": 26,
   "metadata": {},
   "outputs": [],
   "source": [
    "summer_precip = butte_df.loc[(butte_df.index.month>5) & (butte_df.index.month<10)]['PRECIPITATON'].groupby(butte_df.loc[(butte_df.index.month>5) & (butte_df.index.month<10)].index.year).sum()\n",
    "tmp = []\n",
    "yr = []\n",
    "for i,val in enumerate(summer_precip):\n",
    "    if i < len(summer_precip)-1:\n",
    "        tmp.append(np.mean([val,summer_precip.iloc[i+1]]))\n",
    "        yr.append(summer_precip.index[i]+2)\n",
    "\n",
    "previous_2yr_anomaly = pd.Series(data=tmp,index=yr)\n",
    "previous_2yr_anomaly = normalize_data(previous_2yr_anomaly)\n",
    "\n",
    "wet_soil_years = previous_2yr_anomaly[previous_2yr_anomaly>np.percentile(previous_2yr_anomaly,75)].index\n",
    "dry_soil_years = previous_2yr_anomaly[previous_2yr_anomaly<np.percentile(previous_2yr_anomaly,25)].index"
   ]
  },
  {
   "cell_type": "markdown",
   "metadata": {},
   "source": [
    "## Get river data    "
   ]
  },
  {
   "cell_type": "code",
   "execution_count": 27,
   "metadata": {},
   "outputs": [],
   "source": [
    "def get_mean_discharge(site, spring_only=False):\n",
    "    monthly_discharge_stats = nwis.get_stats(sites=site, statReportType='monthly', statTypeCd='mean')[0]\n",
    "    monthly_discharge_stats = monthly_discharge_stats[monthly_discharge_stats['parameter_cd']==60]\n",
    "\n",
    "    # Compute discharge means\n",
    "    # If only spring is wanted, filter out other months\n",
    "    if spring_only:\n",
    "        monthly_discharge_stats = monthly_discharge_stats[monthly_discharge_stats['month_nu'].isin([5,6,7])]\n",
    "    discharge_means = monthly_discharge_stats['mean_va'].groupby(monthly_discharge_stats['year_nu']).mean()\n",
    "    return discharge_means"
   ]
  },
  {
   "cell_type": "code",
   "execution_count": 28,
   "metadata": {},
   "outputs": [],
   "source": [
    "east_river_annual_discharge = get_mean_discharge('09112500', spring_only=True)"
   ]
  },
  {
   "cell_type": "code",
   "execution_count": 29,
   "metadata": {},
   "outputs": [],
   "source": [
    "df = pd.concat([normalize_data(east_river_annual_discharge.loc[1991:]), normalize_data(butte_max_swe_mm),normalize_data(sublimation_taylor_totals)],axis=1)\n",
    "df['precip_code'] = None\n",
    "df.loc[dry_years,'precip_code']='dry'\n",
    "df.loc[wet_years,'precip_code']='wet'\n",
    "\n",
    "df['2yr_anom_code'] = None\n",
    "df.loc[dry_soil_years,'2yr_anom_code']='dry'\n",
    "df.loc[wet_soil_years,'2yr_anom_code']='wet'\n",
    "\n",
    "df['temp_code'] = None\n",
    "df.loc[warm_years,'temp_code']='warm'\n",
    "df.loc[cold_years,'temp_code']='cold'\n",
    "\n",
    "df['water_year'] = df.index.astype('str')\n"
   ]
  },
  {
   "cell_type": "code",
   "execution_count": 30,
   "metadata": {},
   "outputs": [
    {
     "data": {
      "text/html": [
       "\n",
       "<div id=\"altair-viz-f85dc24f71434fb9ae6ea964abc2d274\"></div>\n",
       "<script type=\"text/javascript\">\n",
       "  var VEGA_DEBUG = (typeof VEGA_DEBUG == \"undefined\") ? {} : VEGA_DEBUG;\n",
       "  (function(spec, embedOpt){\n",
       "    let outputDiv = document.currentScript.previousElementSibling;\n",
       "    if (outputDiv.id !== \"altair-viz-f85dc24f71434fb9ae6ea964abc2d274\") {\n",
       "      outputDiv = document.getElementById(\"altair-viz-f85dc24f71434fb9ae6ea964abc2d274\");\n",
       "    }\n",
       "    const paths = {\n",
       "      \"vega\": \"https://cdn.jsdelivr.net/npm//vega@5?noext\",\n",
       "      \"vega-lib\": \"https://cdn.jsdelivr.net/npm//vega-lib?noext\",\n",
       "      \"vega-lite\": \"https://cdn.jsdelivr.net/npm//vega-lite@4.17.0?noext\",\n",
       "      \"vega-embed\": \"https://cdn.jsdelivr.net/npm//vega-embed@6?noext\",\n",
       "    };\n",
       "\n",
       "    function maybeLoadScript(lib, version) {\n",
       "      var key = `${lib.replace(\"-\", \"\")}_version`;\n",
       "      return (VEGA_DEBUG[key] == version) ?\n",
       "        Promise.resolve(paths[lib]) :\n",
       "        new Promise(function(resolve, reject) {\n",
       "          var s = document.createElement('script');\n",
       "          document.getElementsByTagName(\"head\")[0].appendChild(s);\n",
       "          s.async = true;\n",
       "          s.onload = () => {\n",
       "            VEGA_DEBUG[key] = version;\n",
       "            return resolve(paths[lib]);\n",
       "          };\n",
       "          s.onerror = () => reject(`Error loading script: ${paths[lib]}`);\n",
       "          s.src = paths[lib];\n",
       "        });\n",
       "    }\n",
       "\n",
       "    function showError(err) {\n",
       "      outputDiv.innerHTML = `<div class=\"error\" style=\"color:red;\">${err}</div>`;\n",
       "      throw err;\n",
       "    }\n",
       "\n",
       "    function displayChart(vegaEmbed) {\n",
       "      vegaEmbed(outputDiv, spec, embedOpt)\n",
       "        .catch(err => showError(`Javascript Error: ${err.message}<br>This usually means there's a typo in your chart specification. See the javascript console for the full traceback.`));\n",
       "    }\n",
       "\n",
       "    if(typeof define === \"function\" && define.amd) {\n",
       "      requirejs.config({paths});\n",
       "      require([\"vega-embed\"], displayChart, err => showError(`Error loading script: ${err.message}`));\n",
       "    } else {\n",
       "      maybeLoadScript(\"vega\", \"5\")\n",
       "        .then(() => maybeLoadScript(\"vega-lite\", \"4.17.0\"))\n",
       "        .then(() => maybeLoadScript(\"vega-embed\", \"6\"))\n",
       "        .catch(showError)\n",
       "        .then(() => displayChart(vegaEmbed));\n",
       "    }\n",
       "  })({\"config\": {\"view\": {\"continuousWidth\": 400, \"continuousHeight\": 300}}, \"layer\": [{\"data\": {\"name\": \"data-d0614fcaf5d7d2702fd34d7b0a61a146\"}, \"mark\": \"point\", \"encoding\": {\"color\": {\"field\": \"temp_code\", \"scale\": {\"domain\": [\"warm\", null, \"cold\"], \"range\": [\"red\", \"grey\", \"blue\"]}, \"type\": \"nominal\"}, \"size\": {\"field\": \"sublimation_mm\", \"scale\": {\"domain\": [-3, 2]}, \"type\": \"quantitative\"}, \"x\": {\"field\": \"SWE\", \"title\": \"Annual Maximum SWE at Butte (Normalized)\", \"type\": \"quantitative\"}, \"y\": {\"field\": \"mean_va\", \"title\": \"Spring Mean Discharge (Normalized)\", \"type\": \"quantitative\"}}}, {\"data\": {\"name\": \"data-c0ca875f7429746a6931082d7f28f084\"}, \"mark\": {\"type\": \"line\", \"color\": \"grey\"}, \"encoding\": {\"x\": {\"field\": \"x\", \"type\": \"quantitative\"}, \"y\": {\"field\": \"y\", \"type\": \"quantitative\"}}}], \"$schema\": \"https://vega.github.io/schema/vega-lite/v4.17.0.json\", \"datasets\": {\"data-d0614fcaf5d7d2702fd34d7b0a61a146\": [{\"mean_va\": -0.06365025130546136, \"SWE\": -0.5405774625027148, \"sublimation_mm\": -1.2857342826190161, \"precip_code\": null, \"2yr_anom_code\": null, \"temp_code\": \"cold\", \"water_year\": \"1991\"}, {\"mean_va\": -0.7371317023188122, \"SWE\": -0.7977319587316276, \"sublimation_mm\": 0.30598917512968843, \"precip_code\": null, \"2yr_anom_code\": null, \"temp_code\": null, \"water_year\": \"1992\"}, {\"mean_va\": 1.5416190461932224, \"SWE\": 2.3738401614249622, \"sublimation_mm\": -1.1999762806534107, \"precip_code\": \"wet\", \"2yr_anom_code\": \"wet\", \"temp_code\": \"cold\", \"water_year\": \"1993\"}, {\"mean_va\": -0.16842926346540638, \"SWE\": -0.39057067303584875, \"sublimation_mm\": -0.22005080076447536, \"precip_code\": \"dry\", \"2yr_anom_code\": null, \"temp_code\": null, \"water_year\": \"1994\"}, {\"mean_va\": 2.4064956837685663, \"SWE\": 1.8595311689671374, \"sublimation_mm\": -0.7556952989618165, \"precip_code\": \"wet\", \"2yr_anom_code\": \"dry\", \"temp_code\": null, \"water_year\": \"1995\"}, {\"mean_va\": 0.947814194778195, \"SWE\": 1.1952153870424462, \"sublimation_mm\": -0.14817346568455733, \"precip_code\": null, \"2yr_anom_code\": null, \"temp_code\": null, \"water_year\": \"1996\"}, {\"mean_va\": 1.5000672711338823, \"SWE\": 1.2595040110996745, \"sublimation_mm\": -0.7596928822659258, \"precip_code\": \"wet\", \"2yr_anom_code\": null, \"temp_code\": \"cold\", \"water_year\": \"1997\"}, {\"mean_va\": -0.24082359320796848, \"SWE\": -0.1334161768069359, \"sublimation_mm\": -1.4882406658356402, \"precip_code\": null, \"2yr_anom_code\": null, \"temp_code\": \"cold\", \"water_year\": \"1998\"}, {\"mean_va\": 0.08679287653825393, \"SWE\": -0.17627525951175502, \"sublimation_mm\": 0.9048968789692743, \"precip_code\": \"wet\", \"2yr_anom_code\": null, \"temp_code\": null, \"water_year\": \"1999\"}, {\"mean_va\": -0.539482331057166, \"SWE\": -0.454859297093077, \"sublimation_mm\": 0.7095976827693126, \"precip_code\": null, \"2yr_anom_code\": null, \"temp_code\": \"warm\", \"water_year\": \"2000\"}, {\"mean_va\": -0.617531129158319, \"SWE\": -0.7334433346743994, \"sublimation_mm\": 0.9412841000002369, \"precip_code\": null, \"2yr_anom_code\": null, \"temp_code\": null, \"water_year\": \"2001\"}, {\"mean_va\": -1.55600152915835, \"SWE\": -1.1406046203701778, \"sublimation_mm\": 1.9906682094965906, \"precip_code\": \"dry\", \"2yr_anom_code\": null, \"temp_code\": \"warm\", \"water_year\": \"2002\"}, {\"mean_va\": -0.3806431744385741, \"SWE\": -0.3477115903310301, \"sublimation_mm\": 0.7965740931811138, \"precip_code\": null, \"2yr_anom_code\": \"wet\", \"temp_code\": null, \"water_year\": \"2003\"}, {\"mean_va\": -0.7767129808289467, \"SWE\": -0.7334433346743994, \"sublimation_mm\": 0.1407043686369882, \"precip_code\": \"dry\", \"2yr_anom_code\": null, \"temp_code\": null, \"water_year\": \"2004\"}, {\"mean_va\": 0.24074862866533586, \"SWE\": 0.6166177705273926, \"sublimation_mm\": -0.27931902003966846, \"precip_code\": \"wet\", \"2yr_anom_code\": null, \"temp_code\": \"warm\", \"water_year\": \"2005\"}, {\"mean_va\": -0.12602075077597644, \"SWE\": 0.2094564848316138, \"sublimation_mm\": -0.7049900576404791, \"precip_code\": \"wet\", \"2yr_anom_code\": null, \"temp_code\": null, \"water_year\": \"2006\"}, {\"mean_va\": -0.7721722713894724, \"SWE\": -0.9263092068460836, \"sublimation_mm\": -0.14912888005157574, \"precip_code\": null, \"2yr_anom_code\": \"wet\", \"temp_code\": \"warm\", \"water_year\": \"2007\"}, {\"mean_va\": 1.2718323664780413, \"SWE\": 1.7738130035574993, \"sublimation_mm\": -1.5760752395254298, \"precip_code\": \"wet\", \"2yr_anom_code\": \"wet\", \"temp_code\": \"cold\", \"water_year\": \"2008\"}, {\"mean_va\": 0.4355707657476869, \"SWE\": 0.6594768532322113, \"sublimation_mm\": -0.40432070204441173, \"precip_code\": null, \"2yr_anom_code\": null, \"temp_code\": null, \"water_year\": \"2009\"}, {\"mean_va\": -0.4699152354938991, \"SWE\": -0.454859297093077, \"sublimation_mm\": -1.7854189681491166, \"precip_code\": \"dry\", \"2yr_anom_code\": null, \"temp_code\": null, \"water_year\": \"2010\"}, {\"mean_va\": 1.529453371845952, \"SWE\": 0.6380473118798018, \"sublimation_mm\": -1.3874637634057438, \"precip_code\": null, \"2yr_anom_code\": \"dry\", \"temp_code\": null, \"water_year\": \"2011\"}, {\"mean_va\": -1.5697093312397818, \"SWE\": -1.5477659060659563, \"sublimation_mm\": 1.9420754999542105, \"precip_code\": \"dry\", \"2yr_anom_code\": \"dry\", \"temp_code\": \"warm\", \"water_year\": \"2012\"}, {\"mean_va\": -0.8184361034143051, \"SWE\": -0.7763024173792176, \"sublimation_mm\": 0.24051280093544392, \"precip_code\": null, \"2yr_anom_code\": \"dry\", \"temp_code\": null, \"water_year\": \"2013\"}, {\"mean_va\": 0.6853954586817828, \"SWE\": 0.2094564848316138, \"sublimation_mm\": 0.6798491193154612, \"precip_code\": null, \"2yr_anom_code\": \"wet\", \"temp_code\": \"cold\", \"water_year\": \"2014\"}, {\"mean_va\": -0.06579209538068519, \"SWE\": -0.8405910414364463, \"sublimation_mm\": 1.3607299680646374, \"precip_code\": null, \"2yr_anom_code\": \"wet\", \"temp_code\": \"warm\", \"water_year\": \"2015\"}, {\"mean_va\": -0.268753239948886, \"SWE\": -0.454859297093077, \"sublimation_mm\": 0.894636764679795, \"precip_code\": null, \"2yr_anom_code\": \"wet\", \"temp_code\": null, \"water_year\": \"2016\"}, {\"mean_va\": 0.9006079513602636, \"SWE\": 1.2595040110996745, \"sublimation_mm\": 0.04998342723803539, \"precip_code\": \"wet\", \"2yr_anom_code\": \"wet\", \"temp_code\": \"warm\", \"water_year\": \"2017\"}, {\"mean_va\": -1.300693715391681, \"SWE\": -1.1406046203701778, \"sublimation_mm\": 1.8162438122116478, \"precip_code\": \"dry\", \"2yr_anom_code\": null, \"temp_code\": \"warm\", \"water_year\": \"2018\"}, {\"mean_va\": 1.2871679700566434, \"SWE\": 0.8523427254038956, \"sublimation_mm\": -0.3636094074195745, \"precip_code\": null, \"2yr_anom_code\": \"dry\", \"temp_code\": \"cold\", \"water_year\": \"2019\"}, {\"mean_va\": -0.7753422006208036, \"SWE\": -0.39057067303584875, \"sublimation_mm\": 0.16596450837331414, \"precip_code\": \"dry\", \"2yr_anom_code\": \"dry\", \"temp_code\": null, \"water_year\": \"2020\"}, {\"mean_va\": -1.2748202389629784, \"SWE\": -0.9263092068460836, \"sublimation_mm\": 0.5287848794004152, \"precip_code\": \"dry\", \"2yr_anom_code\": \"dry\", \"temp_code\": null, \"water_year\": \"2021\"}, {\"mean_va\": -0.31150444769035174, \"SWE\": null, \"sublimation_mm\": 0.6350068022619106, \"precip_code\": null, \"2yr_anom_code\": null, \"temp_code\": null, \"water_year\": \"2022\"}, {\"mean_va\": null, \"SWE\": null, \"sublimation_mm\": -0.2948178879356432, \"precip_code\": null, \"2yr_anom_code\": null, \"temp_code\": null, \"water_year\": \"1988\"}, {\"mean_va\": null, \"SWE\": null, \"sublimation_mm\": -0.35340432797501037, \"precip_code\": null, \"2yr_anom_code\": null, \"temp_code\": null, \"water_year\": \"1989\"}, {\"mean_va\": null, \"SWE\": null, \"sublimation_mm\": -0.9473901596465776, \"precip_code\": null, \"2yr_anom_code\": null, \"temp_code\": \"cold\", \"water_year\": \"1990\"}], \"data-c0ca875f7429746a6931082d7f28f084\": [{\"x\": -2.0, \"y\": -2.0}, {\"x\": 2.5, \"y\": 2.5}]}}, {\"mode\": \"vega-lite\"});\n",
       "</script>"
      ],
      "text/plain": [
       "alt.LayerChart(...)"
      ]
     },
     "execution_count": 30,
     "metadata": {},
     "output_type": "execute_result"
    }
   ],
   "source": [
    "import altair as alt\n",
    "\n",
    "scale = alt.Scale(domain=['warm', None, 'cold'],\n",
    "                  range=['red', 'grey', 'blue'])\n",
    "\n",
    "plot1 = alt.Chart(df).mark_point().encode(\n",
    "    alt.X('SWE', title='Annual Maximum SWE at Butte (Normalized)'),\n",
    "    alt.Y('mean_va', title='Spring Mean Discharge (Normalized)'),\n",
    "    alt.Color('temp_code',scale=scale),\n",
    "    alt.Size('sublimation_mm', scale=alt.Scale(domain=[-3,2]))\n",
    "    )\n",
    "plot_precip = alt.Chart(df).mark_point().encode(\n",
    "    alt.X('SWE', title='Annual Maximum SWE at Butte (Normalized)'),\n",
    "    alt.Y('mean_va', title='Spring Mean Discharge (Normalized)'),\n",
    "    alt.Color('precip_code', scale=scale)\n",
    "    )\n",
    "\n",
    "plot2 =alt.Chart(pd.DataFrame({\n",
    "    'x': [-2, 2.5],\n",
    "    'y': [-2, 2.5],\n",
    "})\n",
    ").mark_line(color='grey').encode(\n",
    "    x= 'x',\n",
    "    y= 'y',\n",
    "    # label='1 to 1 line'\n",
    ")\n",
    "\n",
    "plot1 + plot2"
   ]
  },
  {
   "cell_type": "code",
   "execution_count": 21,
   "metadata": {},
   "outputs": [
    {
     "data": {
      "text/plain": [
       "array([1991, 1992, 1993, 1994, 1995, 1996, 1997, 1998, 1999, 2000, 2001,\n",
       "       2002, 2003, 2004, 2005, 2006, 2007, 2008, 2009, 2010, 2011, 2012,\n",
       "       2013, 2014, 2015, 2016, 2017, 2018, 2019, 2020, 2021])"
      ]
     },
     "execution_count": 21,
     "metadata": {},
     "output_type": "execute_result"
    }
   ],
   "source": [
    "plot1 = alt.Chart(df).mark_point().encode(\n",
    "    alt.X('SWE', title='Annual Maximum SWE at Butte (Normalized)'),\n",
    "    alt.Y('mean_va', title='Spring Mean Discharge (Normalized)'),\n",
    "    alt.Color('temp_code',scale=scale),\n",
    "    alt.Size('sublimation_mm', scale=alt.Scale(domain=[-3,2]))\n",
    "    )"
   ]
  },
  {
   "cell_type": "code",
   "execution_count": null,
   "metadata": {},
   "outputs": [],
   "source": []
  }
 ],
 "metadata": {
  "kernelspec": {
   "display_name": "Python 3.9.12 ('sos_env')",
   "language": "python",
   "name": "python3"
  },
  "language_info": {
   "codemirror_mode": {
    "name": "ipython",
    "version": 3
   },
   "file_extension": ".py",
   "mimetype": "text/x-python",
   "name": "python",
   "nbconvert_exporter": "python",
   "pygments_lexer": "ipython3",
   "version": "3.9.12"
  },
  "orig_nbformat": 4,
  "vscode": {
   "interpreter": {
    "hash": "dfeaad8a7c02a21065de2b8ca9dd8a7ef6e299545e3ffab7498cc4a2ac99a4c2"
   }
  }
 },
 "nbformat": 4,
 "nbformat_minor": 2
}
