{
 "cells": [
  {
   "cell_type": "code",
   "execution_count": 77,
   "metadata": {},
   "outputs": [],
   "source": [
    "import pandas as pd\n",
    "\n",
    "from pyPRISMClimate import get_prism_monthlys, get_prism_monthly_single, get_prism_dailys, get_prism_daily_single, get_prism_normals\n",
    "from pyPRISMClimate.utils import prism_iterator\n",
    "\n",
    "import rasterio\n",
    "from rasterio.plot import show\n",
    "from rasterio.warp import calculate_default_transform, reproject, Resampling\n",
    "from rasterio import plot, mask\n",
    "\n",
    "import geopandas as gpd\n",
    "import fiona\n",
    "\n",
    "from metloom.pointdata import MesowestPointData, SnotelPointData\n",
    "from datetime import datetime\n"
   ]
  },
  {
   "cell_type": "code",
   "execution_count": 50,
   "metadata": {},
   "outputs": [],
   "source": [
    "# Get monthly mean temperature\n",
    "get_prism_monthlys(variable='ppt', years=[2017,2018], months=[5,6,7], dest_path='tmp/prism')\n",
    "# # Get the 30 year normal temperature for Jan, Feb, Mar at 800m resolution.\n",
    "# get_prism_normals(variable = 'tmean', resolution = '800m', months=[1,2,3],\n",
    "#                   dest_path = './')\n",
    "\n",
    "# # Get the 30 year annual temperature at 4km resolution.\n",
    "# get_prism_normals(variable = 'tmean', resolution = '4km', annual=True,\n",
    "#                   dest_path = './')"
   ]
  },
  {
   "cell_type": "code",
   "execution_count": 6,
   "metadata": {},
   "outputs": [
    {
     "data": {
      "text/plain": [
       "'./tmp/prism\\\\PRISM_ppt_stable_4kmM3_201705_bil.bil'"
      ]
     },
     "execution_count": 6,
     "metadata": {},
     "output_type": "execute_result"
    }
   ],
   "source": [
    "prism_files = prism_iterator('./tmp/prism')"
   ]
  },
  {
   "cell_type": "code",
   "execution_count": 8,
   "metadata": {},
   "outputs": [],
   "source": [
    "# Get polygon to clip to\n",
    "fiona.drvsupport.supported_drivers['KML'] = 'rw'\n",
    "east_river_polygon = gpd.read_file(\"../multisite/data/polygons/East_River.kml\", driver='KML')\n",
    "east_river_polygon = east_river_polygon.to_crs(\"26913\")"
   ]
  },
  {
   "cell_type": "code",
   "execution_count": 158,
   "metadata": {},
   "outputs": [],
   "source": [
    "# Convert to new CRS using rasterio\n",
    "# From https://hatarilabs.com/ih-en/how-to-reproject-single-and-multiple-rasters-with-python-and-rasterio-tutorial\n",
    "def transform_prism(prism_file_path):\n",
    "    print('Transforming: ' + prism_file_path)\n",
    "    src = rasterio.open(prism_file_path)\n",
    "    print('Source CRS:')\n",
    "    print(src.crs)\n",
    "\n",
    "    dstCrs = {'init':'EPSG:26913'}\n",
    "    print('Destination raster crs:')\n",
    "    print(dstCrs)\n",
    "\n",
    "    # calculate transform array and shape of reprojected raster\n",
    "    transform, width, height = calculate_default_transform(\n",
    "            src.crs, dstCrs, src.width, src.height, *src.bounds)\n",
    "\n",
    "    print(\"transform array of source raster\")\n",
    "    print(src.transform)\n",
    "\n",
    "    #working of the meta for the destination raster\n",
    "    kwargs = src.meta.copy()\n",
    "    kwargs.update({\n",
    "            'crs': dstCrs,\n",
    "            'transform': transform,\n",
    "            'width': width,\n",
    "            'height': height\n",
    "        })\n",
    "\n",
    "    new_name = prism_file_path[:-4] + '_rpj.bil'\n",
    "    #open destination raster\n",
    "    dstRst = rasterio.open(new_name, 'w', **kwargs)\n",
    "\n",
    "    #reproject and save raster band data\n",
    "    for i in range(1, src.count + 1):\n",
    "        reproject(\n",
    "            source=rasterio.band(src, i),\n",
    "            destination=rasterio.band(dstRst, i),\n",
    "            #src_transform=src.transform,\n",
    "            src_crs=src.crs,\n",
    "            #dst_transform=transform,\n",
    "            dst_crs=dstCrs,\n",
    "            resampling=Resampling.nearest)\n",
    "\n",
    "    #close destination raster\n",
    "    dstRst.close()\n",
    "    return new_name"
   ]
  },
  {
   "cell_type": "code",
   "execution_count": 179,
   "metadata": {},
   "outputs": [
    {
     "name": "stdout",
     "output_type": "stream",
     "text": [
      "Transforming: ./tmp/prism\\PRISM_ppt_stable_4kmM3_201707_bil.bil\n",
      "Source CRS:\n",
      "OGC:CRS83\n",
      "Destination raster crs:\n",
      "{'init': 'EPSG:26913'}\n",
      "transform array of source raster\n",
      "| 0.04, 0.00,-125.02|\n",
      "| 0.00,-0.04, 49.94|\n",
      "| 0.00, 0.00, 1.00|\n"
     ]
    }
   ],
   "source": [
    "dstRst.close()\n",
    "new_name = transform_prism(prism_files[2]['full_path'])\n",
    "dstRst = rasterio.open(new_name)\n"
   ]
  },
  {
   "cell_type": "code",
   "execution_count": 78,
   "metadata": {},
   "outputs": [
    {
     "name": "stderr",
     "output_type": "stream",
     "text": [
      "No RELATIVE HUMIDITY found for Butte\n",
      "No RELATIVE HUMIDITY found for Schofield Pass\n"
     ]
    }
   ],
   "source": [
    "# pull in snotel data for comparison and plot points on map\n",
    "# Pull Butte snotel data\n",
    "\n",
    "snotel_point = SnotelPointData(\"380:CO:SNTL\", \"Butte\")\n",
    "butte_sntl = snotel_point.get_daily_data(\n",
    "    datetime(1991, 1, 1), datetime(2022, 9, 30),\n",
    "    [snotel_point.ALLOWED_VARIABLES.PRECIPITATION,\n",
    "     snotel_point.ALLOWED_VARIABLES.PRECIPITATIONACCUM,\n",
    "     snotel_point.ALLOWED_VARIABLES.SNOWDEPTH,\n",
    "     snotel_point.ALLOWED_VARIABLES.SWE,\n",
    "     snotel_point.ALLOWED_VARIABLES.TEMP,\n",
    "     snotel_point.ALLOWED_VARIABLES.RH]\n",
    ")\n",
    "butte_sntl = butte_sntl.droplevel(1)\n",
    "\n",
    "# Add water year\n",
    "butte_sntl['water_year'] =  butte_sntl.index.year.where(butte_sntl.index.month < 10, butte_sntl.index.year + 1)\n",
    "\n",
    "# Get dates of max swe\n",
    "butte_sntl.index = pd.to_datetime(butte_sntl.index)\n",
    "\n",
    "snotel_point = SnotelPointData(\"737:CO:SNTL\", \"Schofield Pass\")\n",
    "schofield_sntl = snotel_point.get_daily_data(\n",
    "    datetime(1991, 1, 1), datetime(2022, 9, 30),\n",
    "    [snotel_point.ALLOWED_VARIABLES.PRECIPITATION,\n",
    "     snotel_point.ALLOWED_VARIABLES.PRECIPITATIONACCUM,\n",
    "     snotel_point.ALLOWED_VARIABLES.SNOWDEPTH,\n",
    "     snotel_point.ALLOWED_VARIABLES.SWE,\n",
    "     snotel_point.ALLOWED_VARIABLES.TEMP,\n",
    "     snotel_point.ALLOWED_VARIABLES.RH]\n",
    ")\n",
    "schofield_sntl = schofield_sntl.droplevel(1)\n",
    "\n",
    "# Add water year\n",
    "schofield_sntl['water_year'] =  schofield_sntl.index.year.where(schofield_sntl.index.month < 10, schofield_sntl.index.year + 1)\n",
    "schofield_sntl.index = pd.to_datetime(schofield_sntl.index)"
   ]
  },
  {
   "cell_type": "code",
   "execution_count": null,
   "metadata": {},
   "outputs": [],
   "source": [
    "if butte_sntl.crs is None:\n",
    "    butte_sntl=butte_sntl.set_crs(crs='EPSG:4326')\n",
    "    butte_sntl=butte_sntl.to_crs(crs=dstCrs['init'])"
   ]
  },
  {
   "cell_type": "code",
   "execution_count": 109,
   "metadata": {},
   "outputs": [],
   "source": [
    "if schofield_sntl.crs is None:\n",
    "    schofield_sntl=schofield_sntl.set_crs(crs='EPSG:4326')\n",
    "    schofield_sntl=schofield_sntl.to_crs(crs=dstCrs['init'])"
   ]
  },
  {
   "cell_type": "code",
   "execution_count": 197,
   "metadata": {},
   "outputs": [],
   "source": [
    "rio_mask_kwargs = {'filled':False, 'crop':True, 'indexes':1}\n",
    "# Uses 1500 meter buffer to match\n",
    "src_ma, src_ma_transform = rasterio.mask.mask(dstRst, east_river_polygon.buffer(1500),**rio_mask_kwargs)\n",
    "east_ma_extent = rasterio.plot.plotting_extent(src_ma, src_ma_transform)"
   ]
  },
  {
   "cell_type": "code",
   "execution_count": 198,
   "metadata": {},
   "outputs": [
    {
     "name": "stderr",
     "output_type": "stream",
     "text": [
      "C:\\Users\\dlhogan\\AppData\\Local\\Temp\\ipykernel_5336\\974017476.py:8: FutureWarning: Indexing a timezone-aware DatetimeIndex with a timezone-naive datetime is deprecated and will raise KeyError in a future version. Use a timezone-aware object instead.\n",
      "  butte_month= butte_sntl.loc[datetime(2017,7,1):datetime(2017,7,31)]\n",
      "C:\\Users\\dlhogan\\AppData\\Local\\Temp\\ipykernel_5336\\974017476.py:22: FutureWarning: Indexing a timezone-aware DatetimeIndex with a timezone-naive datetime is deprecated and will raise KeyError in a future version. Use a timezone-aware object instead.\n",
      "  jan_schofield = schofield_sntl.loc[datetime(2017,7,1):datetime(2017,7,31)]\n"
     ]
    },
    {
     "data": {
      "text/plain": [
       "<matplotlib.legend.Legend at 0x20e17b4c610>"
      ]
     },
     "execution_count": 198,
     "metadata": {},
     "output_type": "execute_result"
    },
    {
     "data": {
      "image/png": "[encoded data removed]",
      "text/plain": [
       "<Figure size 720x720 with 2 Axes>"
      ]
     },
     "metadata": {
      "needs_background": "light"
     },
     "output_type": "display_data"
    }
   ],
   "source": [
    "import matplotlib.pyplot as plt\n",
    "fig, ax = plt.subplots(figsize=(10,10))\n",
    "\n",
    "cax = ax.imshow(src_ma, extent=east_ma_extent, alpha=0.6, cmap='inferno_r',vmin=src_ma.min()/1.1, vmax = src_ma.max()*1.1)\n",
    "plt.colorbar(cax, ax=ax, label='Precipitation [mm/month]')\n",
    "east_river_polygon.boundary.plot(ax=ax,label='East River Watershed', color='k', ls='--')\n",
    "\n",
    "butte_month= butte_sntl.loc[datetime(2017,7,1):datetime(2017,7,31)]\n",
    "butte_month_accum = butte_month['PRECIPITATON'].sum()*25.4\n",
    "\n",
    "ax.scatter(x=butte_sntl.geometry.x.iloc[0],\n",
    "           y=butte_sntl.geometry.y.iloc[0],\n",
    "           c=butte_month_accum, \n",
    "           label='Butte Snotel',\n",
    "           marker='o', \n",
    "           ec='k', \n",
    "           s=100,\n",
    "           cmap='inferno_r',\n",
    "           vmin=src_ma.min()/1.1, \n",
    "           vmax = src_ma.max()*1.1)\n",
    "\n",
    "jan_schofield = schofield_sntl.loc[datetime(2017,7,1):datetime(2017,7,31)]\n",
    "jan_schofield_accum = jan_schofield['PRECIPITATON'].sum()*25.4\n",
    "ax.scatter(x=schofield_sntl.geometry.x.iloc[0],\n",
    "           y=schofield_sntl.geometry.y.iloc[0],\n",
    "           c=jan_schofield_accum, \n",
    "           label='Schofield Snotel',\n",
    "           marker='o', \n",
    "           ec='k', \n",
    "           s=100,\n",
    "           cmap='inferno_r',\n",
    "           vmin=src_ma.min()/1.1, \n",
    "           vmax = src_ma.max()*1.1)\n",
    "\n",
    "ax.legend()\n",
    "\n",
    "\n"
   ]
  },
  {
   "cell_type": "code",
   "execution_count": 193,
   "metadata": {},
   "outputs": [],
   "source": [
    "src_ma, src_ma_transform = rasterio.mask.mask(dstRst, butte_sntl.geometry,**rio_mask_kwargs)\n",
    "east_ma_extent = rasterio.plot.plotting_extent(src_ma, src_ma_transform)"
   ]
  },
  {
   "cell_type": "code",
   "execution_count": 196,
   "metadata": {},
   "outputs": [
    {
     "ename": "AttributeError",
     "evalue": "'MaskedArray' object has no attribute 'plot'",
     "output_type": "error",
     "traceback": [
      "\u001b[1;31m---------------------------------------------------------------------------\u001b[0m",
      "\u001b[1;31mAttributeError\u001b[0m                            Traceback (most recent call last)",
      "\u001b[1;32mc:\\Users\\dlhogan\\OneDrive - UW\\Documents\\GitHub\\sublimation_of_snow\\notebooks\\initial_codes\\prism_sandbox.ipynb Cell 13\u001b[0m in \u001b[0;36m<cell line: 1>\u001b[1;34m()\u001b[0m\n\u001b[1;32m----> <a href='vscode-notebook-cell:/c%3A/Users/dlhogan/OneDrive%20-%20UW/Documents/GitHub/sublimation_of_snow/notebooks/initial_codes/prism_sandbox.ipynb#X23sZmlsZQ%3D%3D?line=0'>1</a>\u001b[0m src_ma\u001b[39m.\u001b[39;49mplot()\n",
      "\u001b[1;31mAttributeError\u001b[0m: 'MaskedArray' object has no attribute 'plot'"
     ]
    }
   ],
   "source": [
    "# make a time series comparing PRSIM data to observations in the valley and around. Add in billy barr data and snodgrass mountain.\n",
    "# Then lets start looking at snow depth maps from ASO. Need to start working on the linux box for this "
   ]
  },
  {
   "cell_type": "code",
   "execution_count": null,
   "metadata": {},
   "outputs": [],
   "source": []
  }
 ],
 "metadata": {
  "kernelspec": {
   "display_name": "Python 3.9.12 ('sos_env')",
   "language": "python",
   "name": "python3"
  },
  "language_info": {
   "codemirror_mode": {
    "name": "ipython",
    "version": 3
   },
   "file_extension": ".py",
   "mimetype": "text/x-python",
   "name": "python",
   "nbconvert_exporter": "python",
   "pygments_lexer": "ipython3",
   "version": "3.9.13"
  },
  "orig_nbformat": 4,
  "vscode": {
   "interpreter": {
    "hash": "dfeaad8a7c02a21065de2b8ca9dd8a7ef6e299545e3ffab7498cc4a2ac99a4c2"
   }
  }
 },
 "nbformat": 4,
 "nbformat_minor": 2
}
